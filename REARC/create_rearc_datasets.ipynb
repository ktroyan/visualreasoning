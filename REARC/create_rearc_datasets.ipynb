{
 "cells": [
  {
   "cell_type": "markdown",
   "metadata": {},
   "source": [
    "### Requirements"
   ]
  },
  {
   "cell_type": "code",
   "execution_count": 1,
   "metadata": {},
   "outputs": [],
   "source": [
    "# %pip install -r requirements.txt"
   ]
  },
  {
   "cell_type": "markdown",
   "metadata": {},
   "source": [
    "### Dependencies"
   ]
  },
  {
   "cell_type": "code",
   "execution_count": 2,
   "metadata": {},
   "outputs": [
    {
     "data": {
      "text/plain": [
       "<torch._C.Generator at 0x2b17e54ca90>"
      ]
     },
     "execution_count": 2,
     "metadata": {},
     "output_type": "execute_result"
    }
   ],
   "source": [
    "import os\n",
    "import random\n",
    "import torch\n",
    "import json\n",
    "from pathlib import Path    # use this maybe for better cross-platform dependencies\n",
    "import random\n",
    "\n",
    "random.seed(1997)\n",
    "torch.manual_seed(1997)"
   ]
  },
  {
   "cell_type": "markdown",
   "metadata": {},
   "source": [
    "### Global variables"
   ]
  },
  {
   "cell_type": "code",
   "execution_count": null,
   "metadata": {},
   "outputs": [],
   "source": []
  },
  {
   "cell_type": "markdown",
   "metadata": {},
   "source": [
    "### Generation of Original Data"
   ]
  },
  {
   "cell_type": "code",
   "execution_count": 3,
   "metadata": {},
   "outputs": [],
   "source": [
    "GENERATE_ORIGINAL_DATA = True"
   ]
  },
  {
   "cell_type": "code",
   "execution_count": 4,
   "metadata": {},
   "outputs": [],
   "source": [
    "# Useful for iterative development\n",
    "%load_ext autoreload\n",
    "%autoreload 2"
   ]
  },
  {
   "cell_type": "code",
   "execution_count": null,
   "metadata": {},
   "outputs": [
    {
     "name": "stdout",
     "output_type": "stream",
     "text": [
      "Specific tasks:  []\n",
      "Tasks selected:  ['fafffa47', 'cbded52d', 'd4a91cb9', 'dae9d2b5', '90f3ed37', '2281f1f4', '3618c87e', 'd037b0a7', '6d75e8bb', 'db93a21d']\n"
     ]
    },
    {
     "name": "stderr",
     "output_type": "stream",
     "text": [
      "task 10/10, example 100/100: 100%|██████████| 10/10 [00:01<00:00,  5.92it/s]\n"
     ]
    },
    {
     "name": "stdout",
     "output_type": "stream",
     "text": [
      "Specific tasks:  []\n",
      "Tasks selected:  ['fafffa47', 'cbded52d', 'd4a91cb9', 'dae9d2b5', '90f3ed37', '2281f1f4', '3618c87e', 'd037b0a7', '6d75e8bb', 'db93a21d']\n"
     ]
    },
    {
     "name": "stderr",
     "output_type": "stream",
     "text": [
      "task 10/10, example 100/100: 100%|██████████| 10/10 [00:02<00:00,  3.72it/s]\n"
     ]
    },
    {
     "name": "stdout",
     "output_type": "stream",
     "text": [
      "Specific tasks:  []\n",
      "Tasks selected:  ['fafffa47', 'cbded52d', 'd4a91cb9', 'dae9d2b5', '90f3ed37', '2281f1f4', '3618c87e', 'd037b0a7', '6d75e8bb', 'db93a21d']\n"
     ]
    },
    {
     "name": "stderr",
     "output_type": "stream",
     "text": [
      "task 10/10, example 100/100: 100%|██████████| 10/10 [00:16<00:00,  1.61s/it]\n"
     ]
    }
   ],
   "source": [
    "# path: where to save the generated data\n",
    "# seed: random seed\n",
    "# n_tasks: number of tasks to generate\n",
    "# n_examples: number of examples to generate per task (400 tasks in total)\n",
    "# diff_lb: lower bound of the sampled level of difficulty of the example\n",
    "# diff_ub: upper bound of the sampled level of difficulty of the example\n",
    "# specific_tasks: list of specific tasks (specified by their name without the file extension .json) to generate (if empty, generate n_tasks tasks)\n",
    "\n",
    "if GENERATE_ORIGINAL_DATA:\n",
    "\n",
    "    from main import generate_dataset\n",
    "\n",
    "    # TODO: change the number of examples to generate to 100000 for the full generation\n",
    "\n",
    "    n_tasks = 10    # max is 400\n",
    "\n",
    "    # Sample-Efficiency study, Experiment Setting 1\n",
    "    generate_dataset(path='./generated_data_lb0_ub04', seed=1997, n_tasks=n_tasks, n_examples=100, diff_lb=0, diff_ub=0.4, specific_tasks=[])\n",
    "\n",
    "    # Systematic Generalization study, Experiment Setting 1\n",
    "    generate_dataset(path='./generated_data_lb0_ub07', seed=1997, n_tasks=n_tasks, n_examples=100, diff_lb=0, diff_ub=0.7, specific_tasks=[])\n",
    "    generate_dataset(path='./generated_data_lb07_ub1', seed=1997, n_tasks=n_tasks, n_examples=100, diff_lb=0.7, diff_ub=1, specific_tasks=[])\n"
   ]
  },
  {
   "cell_type": "code",
   "execution_count": null,
   "metadata": {},
   "outputs": [],
   "source": []
  },
  {
   "cell_type": "markdown",
   "metadata": {},
   "source": [
    "### Pre-processing of Original Data"
   ]
  },
  {
   "cell_type": "code",
   "execution_count": null,
   "metadata": {},
   "outputs": [],
   "source": [
    "\n"
   ]
  },
  {
   "cell_type": "code",
   "execution_count": null,
   "metadata": {},
   "outputs": [],
   "source": [
    "# Create a json file that contains a dict that maps a task name to an id (positive integer)\n",
    "# This is useful to later create a task embedding to be used by a model when making a prediction. Some simple ICL.\n",
    "def create_task_name_to_id_dict(json_file_path):\n",
    "    task_name_to_id_dict = {}\n",
    "    for i, task_file in enumerate(os.listdir('./arc_original/training')):\n",
    "        task_name_to_id_dict[task_file.split('.')[0]] = i\n",
    "\n",
    "    with open(json_file_path, 'w') as f:\n",
    "        json.dump(task_name_to_id_dict, f)\n",
    "\n",
    "final_datasets_folder = \"./final_datasets\"\n",
    "if not os.path.exists(final_datasets_folder):\n",
    "    os.makedirs(final_datasets_folder)\n",
    "\n",
    "create_task_name_to_id_dict(f\"./{final_datasets_folder}/REARC_task_name_to_id.json\")"
   ]
  },
  {
   "cell_type": "code",
   "execution_count": null,
   "metadata": {},
   "outputs": [],
   "source": [
    "# The data in the generated_data_<...> folder are JSON files.\n",
    "# Each JSON file relates to one of the 400 tasks through an id such as \"ff805c23\".\n",
    "# The JSON file contains a list of dictionaries with keys 'input' and 'output' where both 'input' and output are a list of list of symbols (integers 0-9).\n",
    "# Hence, each dictionary in the list is a sample input-output pair for the task.\n",
    "\n",
    "# The intended structure for storing the data should be:\n",
    "# REARC/\n",
    "#     final_datasets/\n",
    "#         {study}/\n",
    "#             exp_setting_{index}/\n",
    "#                 experiment_{index}/\n",
    "#                   train.json/ \n",
    "#                   val.json/\n",
    "#                   test.json/"
   ]
  },
  {
   "cell_type": "code",
   "execution_count": null,
   "metadata": {},
   "outputs": [
    {
     "name": "stdout",
     "output_type": "stream",
     "text": [
      "Tasks available to be selected: ['fafffa47', 'cbded52d', 'd4a91cb9', 'dae9d2b5', '90f3ed37', '2281f1f4', '3618c87e', 'd037b0a7', '6d75e8bb', 'db93a21d']\n",
      "Selected task files: ['db93a21d.json', 'cbded52d.json', '2281f1f4.json', '90f3ed37.json', 'dae9d2b5.json', '3618c87e.json', 'd037b0a7.json', 'fafffa47.json', 'd4a91cb9.json', '6d75e8bb.json']\n",
      "Sets of tasks with samples successfully created in samples_difficulty_lb0_ub04\n",
      "Sets of tasks with samples successfully created in samples_difficulty_lb0_ub07\n",
      "Sets of tasks with samples successfully created in samples_difficulty_lb07_ub1\n"
     ]
    }
   ],
   "source": [
    "# Select nb_tasks tasks randomly among the tasks for which samples were generated\n",
    "def select_tasks_randomly(data_source_folder, nb_tasks):\n",
    "\n",
    "    # Get the task names from the .txt file data_source_folder\n",
    "    with open(data_source_folder, 'r') as f:\n",
    "        tasks_selected = f.readlines()\n",
    "    \n",
    "    tasks_selected = [task.strip() for task in tasks_selected]\n",
    "    print(f\"Tasks available to be selected: {tasks_selected}\")\n",
    "\n",
    "    # Select random tasks\n",
    "    selected_files = random.sample(tasks_selected, nb_tasks)\n",
    "\n",
    "    selected_files = [task+\".json\" for task in selected_files]\n",
    "    print(f\"Selected task files: {selected_files}\")\n",
    "\n",
    "    return selected_files\n",
    "\n",
    "def create_difficulty_samples_sets(tasks, nb_samples, difficulty_name):\n",
    "\n",
    "    tasks_paths = [Path(f\"./generated_data_{difficulty_name}\") / \"tasks\" / task for task in tasks]\n",
    "    structured_data_target_folder = f\"samples_difficulty_{difficulty_name}\"\n",
    "\n",
    "    for task_path in tasks_paths:\n",
    "        with open(task_path, 'r') as f:\n",
    "            data = json.load(f)\n",
    "        \n",
    "        # Get the name of the task\n",
    "        task_name = task_path.stem\n",
    "\n",
    "        samples_difficulty_folder = Path(\"./final_datasets\") / structured_data_target_folder\n",
    "        samples_difficulty_folder.mkdir(parents=True, exist_ok=True)\n",
    "        \n",
    "        sampled_data = random.sample(data, nb_samples)\n",
    "\n",
    "        # Add the task name and difficulty information to each sample\n",
    "        for sample in sampled_data:\n",
    "            sample[\"task\"] = task_name\n",
    "            sample[\"sample_difficulty\"] = difficulty_name\n",
    "        \n",
    "        with open(samples_difficulty_folder / f\"{task_name}.json\", 'w') as f:\n",
    "            json.dump(sampled_data, f, indent=4)\n",
    "    \n",
    "    print(f\"Sets of tasks with samples successfully created in {structured_data_target_folder}\")\n",
    "\n",
    "data_source_folder=\"./tasks_generated.txt\"   # NOTE: this should be the path to a folder whose tasks are all present in all the other folders of different tasks levels of difficulty\n",
    "nb_tasks=10\n",
    "tasks = select_tasks_randomly(data_source_folder, nb_tasks)\n",
    "\n",
    "# Use for Sample-Efficiency study\n",
    "difficulty_name = \"lb0_ub04\" \n",
    "create_difficulty_samples_sets(\n",
    "    tasks=tasks,\n",
    "    nb_samples=100,\n",
    "    difficulty_name=difficulty_name\n",
    ")\n",
    "\n",
    "# Use for Systematic Generalization study\n",
    "difficulty_name = \"lb0_ub07\"\n",
    "create_difficulty_samples_sets(\n",
    "    tasks=tasks,\n",
    "    nb_samples=100,\n",
    "    difficulty_name=difficulty_name,\n",
    ")\n",
    "\n",
    "difficulty_name = \"lb07_ub1\"\n",
    "create_difficulty_samples_sets(\n",
    "    tasks=tasks,\n",
    "    nb_samples=100,\n",
    "    difficulty_name=difficulty_name,\n",
    ")\n"
   ]
  },
  {
   "cell_type": "code",
   "execution_count": 8,
   "metadata": {},
   "outputs": [],
   "source": [
    "import os\n",
    "from collections import Counter\n",
    "\n",
    "def create_list_of_chosen_tasks(folders, destination):\n",
    "    \n",
    "    os.makedirs(destination, exist_ok=True)\n",
    "    \n",
    "    # Get list of files in each folder\n",
    "    file_occurrences = Counter()\n",
    "    folder_files = {}\n",
    "    \n",
    "    for folder in folders:\n",
    "        files = set(os.listdir(folder))\n",
    "        folder_files[folder] = files\n",
    "        file_occurrences.update(files)\n",
    "    \n",
    "    # Find files that appear in all folders\n",
    "    task_files = {file for file, count in file_occurrences.items() if count == len(folders)}\n",
    "    \n",
    "    all_task_names_chosen = []\n",
    "    for file in task_files:\n",
    "        for folder in folders:\n",
    "            source_path = os.path.join(folder, file)\n",
    "            if os.path.isfile(source_path):\n",
    "                all_task_names_chosen.append(file.replace('.json', ''))\n",
    "                break  # we copy only once from the first found folder\n",
    "    \n",
    "    # Save in a text file the task names chosen for the experiments\n",
    "    with open(os.path.join(destination, 'chosen_tasks.txt'), 'w') as f:\n",
    "        for task in all_task_names_chosen:\n",
    "            f.write(task + '\\n')\n",
    "\n",
    "all_sample_difficulties_folders = ['./final_datasets/samples_difficulty_lb0_ub04', './final_datasets/samples_difficulty_lb0_ub07', './final_datasets/samples_difficulty_lb07_ub1']\n",
    "\n",
    "# NOTE: not used for now. It is useful in case the tasks consiered to create the experiments would be different than the ones in the file \"tasks_generated.txt\"\n",
    "# create_list_of_chosen_tasks(all_sample_difficulties_folders, './final_datasets')"
   ]
  },
  {
   "cell_type": "markdown",
   "metadata": {},
   "source": [
    "### General Functions and Classes"
   ]
  },
  {
   "cell_type": "code",
   "execution_count": 9,
   "metadata": {},
   "outputs": [],
   "source": [
    "def get_tasks_names_from_folder(tasks_folder):\n",
    "    return [task.stem for task in Path(tasks_folder).glob(\"*.json\")]"
   ]
  },
  {
   "cell_type": "code",
   "execution_count": 10,
   "metadata": {},
   "outputs": [],
   "source": [
    "import torch\n",
    "import torch.nn.functional as F\n",
    "from torch.utils.data import Dataset, DataLoader\n",
    "import json"
   ]
  },
  {
   "cell_type": "code",
   "execution_count": 11,
   "metadata": {},
   "outputs": [],
   "source": [
    "# Subclass PyTorch Dataset so that it can then be loaded with a DataLoader\n",
    "class CustomREARCDataset(Dataset):\n",
    "    def __init__(self, json_data_split_path, use_padding=False):\n",
    "        super().__init__()\n",
    "        \n",
    "        with open(json_data_split_path, 'r') as f:\n",
    "            self.samples = json.load(f)\n",
    "        \n",
    "        self.n_samples = len(self.samples)\n",
    "\n",
    "        self.use_padding = use_padding\n",
    "        self.max_grid_size = (30, 30)  # maximum grid size\n",
    "\n",
    "    def pad_sample(self, sample):\n",
    "        sample_tensor = torch.tensor(sample, dtype=torch.long)\n",
    "\n",
    "        padded_sample_tensor = F.pad(\n",
    "            sample_tensor, \n",
    "            (0, self.max_grid_size[1] - sample_tensor.shape[1],  # pad width\n",
    "             0, self.max_grid_size[0] - sample_tensor.shape[0]), # pad height\n",
    "            value=0  # padding value\n",
    "        )\n",
    "        return padded_sample_tensor\n",
    "    \n",
    "    def __len__(self):\n",
    "        return self.n_samples\n",
    "    \n",
    "    def __getitem__(self, idx):\n",
    "        \n",
    "        sample = self.samples[idx]\n",
    "        \n",
    "        input_sample = torch.tensor(sample['input'], dtype=torch.long)\n",
    "        output_sample = torch.tensor(sample['output'], dtype=torch.long)\n",
    "\n",
    "        if self.use_padding:\n",
    "            input_sample = self.pad_sample(input_sample)\n",
    "            output_sample = self.pad_sample(output_sample)\n",
    "        \n",
    "        return input_sample, output_sample  # NOTE: would it be better to return a concatenated tensor instead of a tuple?"
   ]
  },
  {
   "cell_type": "code",
   "execution_count": 12,
   "metadata": {},
   "outputs": [],
   "source": [
    "# NOTE:\n",
    "# The DataLoader batches multiple samples together, but it requires all tensors in a batch to have the same shape to stack them into a single tensor.\n",
    "# If our dataset has samples of different sizes (e.g., one sample is 16x14 and another is 16x13), torch.stack() will fail within the dataloader.\n",
    "# Therefore, we need to use padding. Padding can be either done dynamically for the Dataloader object or pre-determined for the Dataset object."
   ]
  },
  {
   "cell_type": "code",
   "execution_count": null,
   "metadata": {},
   "outputs": [
    {
     "data": {
      "image/png": "[encoded data removed]",
      "text/plain": [
       "<Figure size 600x300 with 2 Axes>"
      ]
     },
     "metadata": {},
     "output_type": "display_data"
    }
   ],
   "source": [
    "import matplotlib.pyplot as plt\n",
    "from matplotlib.colors import ListedColormap, Normalize\n",
    "\n",
    "def display_grid_image(sample, title=None):\n",
    "\n",
    "    if isinstance(sample, dict):\n",
    "        input_data = sample['input']\n",
    "        output_data = sample['output']\n",
    "    elif isinstance(sample, tuple):\n",
    "        input_data, output_data = sample\n",
    "\n",
    "    # Use the same color map as REARC\n",
    "    cmap = ListedColormap([\n",
    "        '#000', '#0074D9', '#FF4136', '#2ECC40', '#FFDC00',\n",
    "        '#AAAAAA', '#F012BE', '#FF851B', '#7FDBFF', '#870C25'\n",
    "    ])\n",
    "    norm = Normalize(vmin=0, vmax=9)\n",
    "    args = {'cmap': cmap, 'norm': norm}\n",
    "\n",
    "    # Define figure size\n",
    "    fig, axes = plt.subplots(1, 2, figsize=(6, 3))  # 1 row, 2 columns\n",
    "\n",
    "    # Plot input grid image\n",
    "    axes[0].imshow(input_data, **args)\n",
    "    axes[0].set_title(\"Input\")\n",
    "    axes[0].axis('off')\n",
    "\n",
    "    # Plot output grid image\n",
    "    axes[1].imshow(output_data, **args)\n",
    "    axes[1].set_title(\"Output\")\n",
    "    axes[1].axis('off')\n",
    "\n",
    "    if title:\n",
    "        fig.suptitle(title, fontsize=16)\n",
    "\n",
    "    plt.tight_layout()\n",
    "    plt.show()\n",
    "\n",
    "\n",
    "# Test to show a sample from the dataset\n",
    "task_file = Path('./generated_data/tasks/0a938d79.json')\n",
    "\n",
    "# with open(task_file, \"r\") as file:\n",
    "#     task_samples = json.load(file)\n",
    "# sample_dict = task_samples[0]\n",
    "# display_grid_image(sample_dict, title=\"Sample\")\n",
    "\n",
    "dataset = CustomREARCDataset(task_file, use_padding=False)\n",
    "sample_tuple = dataset[0]\n",
    "display_grid_image(sample_tuple, title=\"Sample\")"
   ]
  },
  {
   "cell_type": "code",
   "execution_count": 14,
   "metadata": {},
   "outputs": [
    {
     "name": "stderr",
     "output_type": "stream",
     "text": [
      "C:\\Users\\klimm\\AppData\\Local\\Temp\\ipykernel_42124\\1928484052.py:15: UserWarning: To copy construct from a tensor, it is recommended to use sourceTensor.clone().detach() or sourceTensor.clone().detach().requires_grad_(True), rather than torch.tensor(sourceTensor).\n",
      "  sample_tensor = torch.tensor(sample, dtype=torch.long)\n"
     ]
    },
    {
     "data": {
      "image/png": "[encoded data removed]",
      "text/plain": [
       "<Figure size 600x300 with 2 Axes>"
      ]
     },
     "metadata": {},
     "output_type": "display_data"
    }
   ],
   "source": [
    "dataset = CustomREARCDataset(task_file, use_padding=True)\n",
    "sample_tuple = dataset[0]\n",
    "display_grid_image(sample_tuple, title=\"Sample\")"
   ]
  },
  {
   "cell_type": "code",
   "execution_count": 15,
   "metadata": {},
   "outputs": [],
   "source": [
    "def collate_fn(batch):\n",
    "    inputs = [torch.tensor(sample[0], dtype=torch.long) for sample in batch]\n",
    "    outputs = [torch.tensor(sample[1], dtype=torch.long) for sample in batch]\n",
    "\n",
    "    max_grid_size = (30, 30)\n",
    "\n",
    "    if not (inputs[0].shape[0] == max_grid_size[0] and inputs[0].shape[1] == max_grid_size[1]): # check if need to pad\n",
    "\n",
    "        def pad_tensor(tensor, max_h, max_w):\n",
    "            return F.pad(tensor, (0, max_w - tensor.shape[1], 0, max_h - tensor.shape[0]), value=0)\n",
    "\n",
    "        inputs = torch.stack([pad_tensor(t, max_grid_size[0], max_grid_size[1]) for t in inputs])\n",
    "        outputs = torch.stack([pad_tensor(t, max_grid_size[0], max_grid_size[1]) for t in outputs])\n",
    "\n",
    "    return inputs, outputs\n",
    "\n",
    "# Sanity check\n",
    "def check_REARC_dataloader(dataset_split_path, use_dataloader_padding=False):\n",
    "    dataset = CustomREARCDataset(dataset_split_path, use_padding=False)\n",
    "\n",
    "    if use_dataloader_padding:\n",
    "        dataloader = DataLoader(dataset, batch_size=4, shuffle=False, collate_fn=collate_fn)\n",
    "    else:\n",
    "        dataloader = DataLoader(dataset, batch_size=4, shuffle=False)\n",
    "\n",
    "    # sample_from_dataset = dataset[0]\n",
    "    # print(\"Sample from dataset: \", sample_from_dataset)\n",
    "\n",
    "    # sample_from_dataloader = next(iter(dataloader))\n",
    "    # print(\"Sample from dataloader: \", sample_from_dataloader)\n",
    "\n",
    "    for input_batch, output_batch in dataloader:\n",
    "        print(\"Input batch shape: \", input_batch.shape)\n",
    "        print(\"Output batch shape: \", output_batch.shape)\n",
    "        sample = input_batch[0], output_batch[0]\n",
    "        break\n",
    "\n",
    "    display_grid_image(sample, title=\"Sample from dataloader\")\n"
   ]
  },
  {
   "cell_type": "code",
   "execution_count": 16,
   "metadata": {},
   "outputs": [],
   "source": [
    "def save_new_dataset_split(study_folder_path, study, experiment_setting, experiment_index, split, data, experiment_setting_datasets):\n",
    "    print(\"Created path experiment setting: \", f\"{study_folder_path}/exp_setting_{experiment_setting['index']}\")\n",
    "    \n",
    "    # Save the selected samples to a JSON file with the experiment_setting index and split\n",
    "    exp_setting_folder_path = f\"{study_folder_path}/exp_setting_{experiment_setting['index']}\"\n",
    "    experiment_folder_path = f\"{exp_setting_folder_path}/experiment_{experiment_index}\"\n",
    "    json_dataset_split_path = f\"{experiment_folder_path}/{split}.json\"\n",
    "    os.makedirs(os.path.dirname(json_dataset_split_path), exist_ok=True)\n",
    "   \n",
    "    with open(json_dataset_split_path, \"w\") as f:\n",
    "        json.dump(data, f, indent=4)\n",
    "    \n",
    "    print(f\"New dataset created at at: {json_dataset_split_path} \\nStudy: {study} \\nExperiment Setting: {experiment_setting['index']} \\nExperiment: experiment_{experiment_index} \\nSplit: {split}\")\n",
    "\n",
    "    experiment_setting_datasets[f'experiment_{experiment_index}'].update({f'{split}': CustomREARCDataset(json_dataset_split_path, use_padding=True)})\n",
    "\n",
    "    return experiment_setting_datasets"
   ]
  },
  {
   "cell_type": "code",
   "execution_count": null,
   "metadata": {},
   "outputs": [],
   "source": [
    "def create_datasets_sample_efficiency(study_folder_path, experiment_setting):\n",
    "    study = \"sample-efficiency\"\n",
    "\n",
    "    experiment_setting_datasets = {}\n",
    "\n",
    "    assert len(experiment_setting['splits']) == 3, \"The number of splits must be 3 (for train, val, test)\"\n",
    "\n",
    "    if experiment_setting['index'] == \"1\":\n",
    "        experiment_index = 0\n",
    "\n",
    "        for task_name in experiment_setting['tasks']:\n",
    "            for train_size, val_size, test_size in zip(experiment_setting['train_sizes'], experiment_setting['val_sizes'], experiment_setting['test_sizes']):\n",
    "                experiment_index += 1\n",
    "\n",
    "                experiment_setting_datasets.update({f\"experiment_{experiment_index}\": {}})\n",
    "\n",
    "                # Select disjointly train_size, val_size, test_size samples for each task from the tasks json files\n",
    "                task = f\"./final_datasets/samples_difficulty_{experiment_setting['diff_level']}/{task_name}.json\"\n",
    "                with open(task, 'r') as f:\n",
    "                    data = json.load(f)\n",
    "\n",
    "                random.shuffle(data)\n",
    "\n",
    "                print(f\"Task {task_name} has {len(data)} samples\")\n",
    "                # print(\"Data in the task are: \", data)\n",
    "                \n",
    "                split = \"train\"\n",
    "                train_data = data[:train_size]\n",
    "                save_new_dataset_split(study_folder_path, study, experiment_setting, experiment_index, split, train_data, experiment_setting_datasets)\n",
    "    \n",
    "                split = \"val\"\n",
    "                val_data = data[train_size:train_size+val_size]\n",
    "                save_new_dataset_split(study_folder_path, study, experiment_setting, experiment_index, split, val_data, experiment_setting_datasets)\n",
    "\n",
    "                split = \"test\"\n",
    "                test_data = data[train_size+val_size:train_size+val_size+test_size]\n",
    "                save_new_dataset_split(study_folder_path, study, experiment_setting, experiment_index, split, test_data, experiment_setting_datasets)\n",
    "\n",
    "\n",
    "    return experiment_setting_datasets\n"
   ]
  },
  {
   "cell_type": "code",
   "execution_count": null,
   "metadata": {},
   "outputs": [],
   "source": [
    "def create_datasets_systematic_generalization(study_folder_path, experiment_setting):\n",
    "    study = \"sys-gen\"\n",
    "\n",
    "    experiment_setting_datasets = {}\n",
    "\n",
    "    assert len(experiment_setting['splits']) == 4, \"The number of splits must be 4 (for train, val, test, test_gen)\"\n",
    "\n",
    "    if experiment_setting['index'] == \"1\":\n",
    "        experiment_index = 0\n",
    "\n",
    "        for task_name in experiment_setting['tasks']:\n",
    "            for train_size, val_size, test_size, test_gen_size in zip(experiment_setting['train_sizes'], experiment_setting['val_sizes'], experiment_setting['test_sizes'], experiment_setting['test_gen_sizes']):\n",
    "                experiment_index += 1\n",
    "\n",
    "                experiment_setting_datasets.update({f\"experiment_{experiment_index}\": {}})\n",
    "\n",
    "                # TODO: Question. Should we validate on in-domain or OOD samples, or both?\n",
    "\n",
    "                # Select disjointly train_size and test_size samples for each task from the tasks json files\n",
    "                task = f\"./final_datasets/samples_difficulty_{experiment_setting['diff_level_easier']}/{task_name}.json\"\n",
    "                with open(task, 'r') as f:\n",
    "                    data = json.load(f)\n",
    "\n",
    "                random.shuffle(data)\n",
    "\n",
    "                print(f\"Task {task_name} has {len(data)} train samples\")\n",
    "                # print(\"Data in the task are: \", data)\n",
    "\n",
    "                # Select disjointly val_size and test_gen_size samples for each task from the tasks json files\n",
    "                task = f\"./final_datasets/samples_difficulty_{experiment_setting['diff_level_easier']}/{task_name}.json\"\n",
    "                with open(task, 'r') as f:\n",
    "                    gen_data = json.load(f)\n",
    "                \n",
    "                random.shuffle(gen_data)\n",
    "\n",
    "                print(f\"Task {task_name} has {len(gen_data)} OOD generalization samples\")\n",
    "                # print(\"Generalization Data in the task are: \", data)\n",
    "\n",
    "                split = \"train\"\n",
    "                train_data = data[:train_size]\n",
    "                save_new_dataset_split(study_folder_path, study, experiment_setting, experiment_index, split, train_data, experiment_setting_datasets)\n",
    "    \n",
    "                # Use it to validate the trained model on OOD samples\n",
    "                split = \"val\"\n",
    "                val_data = gen_data[:val_size]\n",
    "                save_new_dataset_split(study_folder_path, study, experiment_setting, experiment_index, split, val_data, experiment_setting_datasets)\n",
    "\n",
    "                # Use it to test the trained model on in-domain samples, for sanity check and in-domain generalization\n",
    "                split = \"test\"\n",
    "                test_data = data[train_size:train_size+test_size]\n",
    "                save_new_dataset_split(study_folder_path, study, experiment_setting, experiment_index, split, test_data, experiment_setting_datasets)\n",
    "\n",
    "                # Use it to test the trained model on OOD samples, for systematic generalization\n",
    "                split = \"test_gen\"\n",
    "                test_gen_data = gen_data[val_size:val_size+test_gen_size]\n",
    "                save_new_dataset_split(study_folder_path, study, experiment_setting, experiment_index, split, test_gen_data, experiment_setting_datasets)\n",
    "\n",
    "    return experiment_setting_datasets\n"
   ]
  },
  {
   "cell_type": "code",
   "execution_count": 19,
   "metadata": {},
   "outputs": [],
   "source": [
    "def create_dataset(study_folder_path, study, experiment_setting):\n",
    "\n",
    "    if study == \"sample-efficiency\":\n",
    "        experiment_setting_datasets = create_datasets_sample_efficiency(study_folder_path, experiment_setting)\n",
    "        print(f\"Sample efficiency datasets created for: {experiment_setting_datasets.keys()}\\n\")\n",
    "\n",
    "    elif study == \"sys-gen\":\n",
    "        experiment_setting_datasets = create_datasets_systematic_generalization(study_folder_path, experiment_setting)\n",
    "        print(f\"Systematic Generalization datasets created for: {experiment_setting_datasets.keys()}\\n\")\n",
    "\n",
    "    else:\n",
    "        raise ValueError(\"Study must be one of 'sample-efficiency', 'compositionality', or 'sys-gen'\")\n"
   ]
  },
  {
   "cell_type": "markdown",
   "metadata": {},
   "source": [
    "### Main"
   ]
  },
  {
   "cell_type": "code",
   "execution_count": null,
   "metadata": {},
   "outputs": [
    {
     "name": "stdout",
     "output_type": "stream",
     "text": [
      "Data source root: ./generated_data\n",
      "Final datasets root: ./final_datasets\n",
      "Sample efficiency folder: ./final_datasets/sample-efficiency\n",
      "Systematic Generalization folder: ./final_datasets/sys-gen\n"
     ]
    }
   ],
   "source": [
    "# Define the folders that will be used for the datasets\n",
    "# data_environment = \"REARC\"\n",
    "data_source_root = \"./generated_data\"  # Root directory for datasets\n",
    "final_datasets_root = \"./final_datasets\"  # Root directory for datasets\n",
    "\n",
    "# Define and create the directories for each dataset setting\n",
    "sample_efficiency_dir = f\"{final_datasets_root}/sample-efficiency\"\n",
    "sys_gen_dir = f\"{final_datasets_root}/sys-gen\"\n",
    "\n",
    "os.makedirs(sample_efficiency_dir, exist_ok=True)\n",
    "os.makedirs(sys_gen_dir, exist_ok=True)\n",
    "\n",
    "print(f\"Data source root: {data_source_root}\")\n",
    "print(f\"Final datasets root: {final_datasets_root}\")\n",
    "\n",
    "print(f\"Sample efficiency folder: {sample_efficiency_dir}\")\n",
    "print(f\"Systematic Generalization folder: {sys_gen_dir}\")\n"
   ]
  },
  {
   "cell_type": "markdown",
   "metadata": {},
   "source": [
    "## Studies"
   ]
  },
  {
   "cell_type": "markdown",
   "metadata": {},
   "source": [
    "### Sample-Efficiency"
   ]
  },
  {
   "cell_type": "code",
   "execution_count": 21,
   "metadata": {},
   "outputs": [
    {
     "data": {
      "text/plain": [
       "<torch._C.Generator at 0x217ff398110>"
      ]
     },
     "execution_count": 21,
     "metadata": {},
     "output_type": "execute_result"
    }
   ],
   "source": [
    "random.seed(1997)\n",
    "torch.manual_seed(1997)"
   ]
  },
  {
   "cell_type": "code",
   "execution_count": 22,
   "metadata": {},
   "outputs": [],
   "source": [
    "study = \"sample-efficiency\""
   ]
  },
  {
   "cell_type": "code",
   "execution_count": null,
   "metadata": {},
   "outputs": [],
   "source": [
    "# ** Experiment setting 1: Best Performance for Varying Number N of Samples **\n",
    "\n",
    "# We consider 10 tasks sampled randomly from the 400 tasks\n",
    "# We consider samples closer to representing an \"elementary\" task by choosing the level of difficulty in [0, 0.4]\n",
    "# We create train datasets of size N_train = 100, 1000, 2500, 5000, 10000, 25000, 50000, 100000\n",
    "# We create val datasets of size N_val = 1000\n",
    "# We create test datasets of size N_test = 5000\n",
    "\n",
    "splits = ['train', 'val', 'test']\n",
    "experiment_setting_base = {'index': \"1\", 'splits': splits}\n",
    "\n",
    "nb_tasks = 10\n",
    "diff_level = \"lb0_ub04\"\n",
    "\n",
    "# chosen_tasks_folder = './final_datasets/chosen_tasks.txt'\n",
    "chosen_tasks_folder = './tasks_generated.txt'\n",
    "with open(chosen_tasks_folder, 'r') as f:\n",
    "    tasks = f.read().splitlines()\n",
    "\n",
    "train_sizes = [5, 10]   # NOTE: for testing purposes\n",
    "val_sizes = [5] * len(train_sizes)   # NOTE: for testing purposes\n",
    "test_sizes = [10] * len(train_sizes)   # NOTE: for testing purposes\n",
    "\n",
    "# train_sizes = [100, 1000, 2500, 5000, 10000, 25000, 50000, 100000]\n",
    "# val_sizes = [1000] * len(train_sizes)\n",
    "# test_sizes = [5000] * len(train_sizes)\n",
    "\n",
    "experiment_setting = {**experiment_setting_base, \n",
    "                      'tasks': tasks,\n",
    "                      'diff_level': diff_level,\n",
    "                      'train_sizes': train_sizes, \n",
    "                      'val_sizes': val_sizes, \n",
    "                      'test_sizes': test_sizes}\n",
    "\n",
    "create_dataset(sample_efficiency_dir, study, experiment_setting)\n"
   ]
  },
  {
   "cell_type": "code",
   "execution_count": 25,
   "metadata": {},
   "outputs": [
    {
     "name": "stdout",
     "output_type": "stream",
     "text": [
      "Input batch shape:  torch.Size([4, 30, 30])\n",
      "Output batch shape:  torch.Size([4, 30, 30])\n"
     ]
    },
    {
     "name": "stderr",
     "output_type": "stream",
     "text": [
      "C:\\Users\\klimm\\AppData\\Local\\Temp\\ipykernel_42124\\2725922537.py:2: UserWarning: To copy construct from a tensor, it is recommended to use sourceTensor.clone().detach() or sourceTensor.clone().detach().requires_grad_(True), rather than torch.tensor(sourceTensor).\n",
      "  inputs = [torch.tensor(sample[0], dtype=torch.long) for sample in batch]\n",
      "C:\\Users\\klimm\\AppData\\Local\\Temp\\ipykernel_42124\\2725922537.py:3: UserWarning: To copy construct from a tensor, it is recommended to use sourceTensor.clone().detach() or sourceTensor.clone().detach().requires_grad_(True), rather than torch.tensor(sourceTensor).\n",
      "  outputs = [torch.tensor(sample[1], dtype=torch.long) for sample in batch]\n"
     ]
    },
    {
     "data": {
      "image/png": "[encoded data removed]",
      "text/plain": [
       "<Figure size 600x300 with 2 Axes>"
      ]
     },
     "metadata": {},
     "output_type": "display_data"
    }
   ],
   "source": [
    "dataset_train_path = \"./final_datasets/sample-efficiency/exp_setting_1/experiment_2/train.json\"\n",
    "check_REARC_dataloader(dataset_train_path, use_dataloader_padding=True)"
   ]
  },
  {
   "cell_type": "code",
   "execution_count": 26,
   "metadata": {},
   "outputs": [
    {
     "name": "stdout",
     "output_type": "stream",
     "text": [
      "Input batch shape:  torch.Size([4, 30, 30])\n",
      "Output batch shape:  torch.Size([4, 30, 30])\n"
     ]
    },
    {
     "name": "stderr",
     "output_type": "stream",
     "text": [
      "C:\\Users\\klimm\\AppData\\Local\\Temp\\ipykernel_42124\\2725922537.py:2: UserWarning: To copy construct from a tensor, it is recommended to use sourceTensor.clone().detach() or sourceTensor.clone().detach().requires_grad_(True), rather than torch.tensor(sourceTensor).\n",
      "  inputs = [torch.tensor(sample[0], dtype=torch.long) for sample in batch]\n",
      "C:\\Users\\klimm\\AppData\\Local\\Temp\\ipykernel_42124\\2725922537.py:3: UserWarning: To copy construct from a tensor, it is recommended to use sourceTensor.clone().detach() or sourceTensor.clone().detach().requires_grad_(True), rather than torch.tensor(sourceTensor).\n",
      "  outputs = [torch.tensor(sample[1], dtype=torch.long) for sample in batch]\n"
     ]
    },
    {
     "data": {
      "image/png": "[encoded data removed]",
      "text/plain": [
       "<Figure size 600x300 with 2 Axes>"
      ]
     },
     "metadata": {},
     "output_type": "display_data"
    }
   ],
   "source": [
    "dataset_test_path = \"./final_datasets/sample-efficiency/exp_setting_1/experiment_2/test.json\"\n",
    "check_REARC_dataloader(dataset_test_path, use_dataloader_padding=True)"
   ]
  },
  {
   "cell_type": "markdown",
   "metadata": {},
   "source": [
    "### Systematic Generalization"
   ]
  },
  {
   "cell_type": "code",
   "execution_count": 27,
   "metadata": {},
   "outputs": [
    {
     "data": {
      "text/plain": [
       "<torch._C.Generator at 0x217ff398110>"
      ]
     },
     "execution_count": 27,
     "metadata": {},
     "output_type": "execute_result"
    }
   ],
   "source": [
    "random.seed(1997)\n",
    "torch.manual_seed(1997)"
   ]
  },
  {
   "cell_type": "code",
   "execution_count": 28,
   "metadata": {},
   "outputs": [],
   "source": [
    "study = \"sys-gen\""
   ]
  },
  {
   "cell_type": "code",
   "execution_count": null,
   "metadata": {},
   "outputs": [],
   "source": [
    "# ** Experiment setting 1: Various Parameters Cardinality Difficulty **\n",
    "\n",
    "# We consider 10 tasks sampled randomly from the 400 tasks\n",
    "# We consider \"easier\" samples with the level of difficulty in [0, 0.7] and \"harder\" samples with the level of difficulty in [0.7, 1]\n",
    "# We create train datasets of size N_train = 100000\n",
    "# We create val datasets of size N_val = 1000\n",
    "# We create test datasets of size N_test = 5000\n",
    "# We create test_gen datasets of size N_test_gen = 5000\n",
    "\n",
    "splits = ['train', 'val', 'test', 'test_gen']\n",
    "experiment_setting_base = {'index': \"1\", 'splits': splits}\n",
    "\n",
    "nb_tasks = 10\n",
    "\n",
    "diff_level_easier = \"lb0_ub07\"\n",
    "diff_level_harder = \"lb07_ub1\"\n",
    "\n",
    "# chosen_tasks_folder = './final_datasets/chosen_tasks.txt'\n",
    "chosen_tasks_folder = './tasks_generated.txt'\n",
    "with open(chosen_tasks_folder, 'r') as f:\n",
    "    tasks = f.read().splitlines()\n",
    "\n",
    "train_sizes = [10]   # NOTE: for testing purposes\n",
    "val_sizes = [5] * len(train_sizes)   # NOTE: for testing purposes\n",
    "test_sizes = [5] * len(train_sizes)   # NOTE: for testing purposes\n",
    "test_gen_sizes = [5] * len(train_sizes)   # NOTE: for testing purposes\n",
    "\n",
    "# train_sizes = [100000]\n",
    "# val_sizes = [1000] * len(train_sizes)\n",
    "# test_sizes = [5000] * len(train_sizes)\n",
    "# test_gen_sizes = [5000] * len(train_sizes)\n",
    "\n",
    "experiment_setting = {**experiment_setting_base, \n",
    "                      'tasks': tasks, \n",
    "                      'diff_level_easier': diff_level_easier,\n",
    "                      'diff_level_harder': diff_level_harder,\n",
    "                      'train_sizes': train_sizes, \n",
    "                      'val_sizes': val_sizes, \n",
    "                      'test_sizes': test_sizes,\n",
    "                      'test_gen_sizes': test_gen_sizes}\n",
    "\n",
    "create_dataset(sys_gen_dir, study, experiment_setting)\n"
   ]
  },
  {
   "cell_type": "code",
   "execution_count": 30,
   "metadata": {},
   "outputs": [
    {
     "name": "stdout",
     "output_type": "stream",
     "text": [
      "Input batch shape:  torch.Size([4, 30, 30])\n",
      "Output batch shape:  torch.Size([4, 30, 30])\n"
     ]
    },
    {
     "name": "stderr",
     "output_type": "stream",
     "text": [
      "C:\\Users\\klimm\\AppData\\Local\\Temp\\ipykernel_42124\\2725922537.py:2: UserWarning: To copy construct from a tensor, it is recommended to use sourceTensor.clone().detach() or sourceTensor.clone().detach().requires_grad_(True), rather than torch.tensor(sourceTensor).\n",
      "  inputs = [torch.tensor(sample[0], dtype=torch.long) for sample in batch]\n",
      "C:\\Users\\klimm\\AppData\\Local\\Temp\\ipykernel_42124\\2725922537.py:3: UserWarning: To copy construct from a tensor, it is recommended to use sourceTensor.clone().detach() or sourceTensor.clone().detach().requires_grad_(True), rather than torch.tensor(sourceTensor).\n",
      "  outputs = [torch.tensor(sample[1], dtype=torch.long) for sample in batch]\n"
     ]
    },
    {
     "data": {
      "image/png": "[encoded data removed]",
      "text/plain": [
       "<Figure size 600x300 with 2 Axes>"
      ]
     },
     "metadata": {},
     "output_type": "display_data"
    }
   ],
   "source": [
    "dataset_train_path = \"./final_datasets/sys-gen/exp_setting_1/experiment_2/train.json\"\n",
    "check_REARC_dataloader(dataset_train_path, use_dataloader_padding=True)"
   ]
  },
  {
   "cell_type": "code",
   "execution_count": 31,
   "metadata": {},
   "outputs": [
    {
     "name": "stdout",
     "output_type": "stream",
     "text": [
      "Input batch shape:  torch.Size([4, 30, 30])\n",
      "Output batch shape:  torch.Size([4, 30, 30])\n"
     ]
    },
    {
     "name": "stderr",
     "output_type": "stream",
     "text": [
      "C:\\Users\\klimm\\AppData\\Local\\Temp\\ipykernel_42124\\2725922537.py:2: UserWarning: To copy construct from a tensor, it is recommended to use sourceTensor.clone().detach() or sourceTensor.clone().detach().requires_grad_(True), rather than torch.tensor(sourceTensor).\n",
      "  inputs = [torch.tensor(sample[0], dtype=torch.long) for sample in batch]\n",
      "C:\\Users\\klimm\\AppData\\Local\\Temp\\ipykernel_42124\\2725922537.py:3: UserWarning: To copy construct from a tensor, it is recommended to use sourceTensor.clone().detach() or sourceTensor.clone().detach().requires_grad_(True), rather than torch.tensor(sourceTensor).\n",
      "  outputs = [torch.tensor(sample[1], dtype=torch.long) for sample in batch]\n"
     ]
    },
    {
     "data": {
      "image/png": "[encoded data removed]",
      "text/plain": [
       "<Figure size 600x300 with 2 Axes>"
      ]
     },
     "metadata": {},
     "output_type": "display_data"
    }
   ],
   "source": [
    "dataset_test_path = \"./final_datasets/sys-gen/exp_setting_1/experiment_2/test.json\"\n",
    "check_REARC_dataloader(dataset_test_path, use_dataloader_padding=True)"
   ]
  },
  {
   "cell_type": "code",
   "execution_count": 32,
   "metadata": {},
   "outputs": [
    {
     "name": "stdout",
     "output_type": "stream",
     "text": [
      "Input batch shape:  torch.Size([4, 30, 30])\n",
      "Output batch shape:  torch.Size([4, 30, 30])\n"
     ]
    },
    {
     "name": "stderr",
     "output_type": "stream",
     "text": [
      "C:\\Users\\klimm\\AppData\\Local\\Temp\\ipykernel_42124\\2725922537.py:2: UserWarning: To copy construct from a tensor, it is recommended to use sourceTensor.clone().detach() or sourceTensor.clone().detach().requires_grad_(True), rather than torch.tensor(sourceTensor).\n",
      "  inputs = [torch.tensor(sample[0], dtype=torch.long) for sample in batch]\n",
      "C:\\Users\\klimm\\AppData\\Local\\Temp\\ipykernel_42124\\2725922537.py:3: UserWarning: To copy construct from a tensor, it is recommended to use sourceTensor.clone().detach() or sourceTensor.clone().detach().requires_grad_(True), rather than torch.tensor(sourceTensor).\n",
      "  outputs = [torch.tensor(sample[1], dtype=torch.long) for sample in batch]\n"
     ]
    },
    {
     "data": {
      "image/png": "[encoded data removed]",
      "text/plain": [
       "<Figure size 600x300 with 2 Axes>"
      ]
     },
     "metadata": {},
     "output_type": "display_data"
    }
   ],
   "source": [
    "dataset_test_gen_path = \"./final_datasets/sys-gen/exp_setting_1/experiment_2/test_gen.json\"\n",
    "check_REARC_dataloader(dataset_test_gen_path, use_dataloader_padding=True)"
   ]
  },
  {
   "cell_type": "code",
   "execution_count": null,
   "metadata": {},
   "outputs": [],
   "source": []
  }
 ],
 "metadata": {
  "kernelspec": {
   "display_name": "vis-reas_jupyter_kernel",
   "language": "python",
   "name": "cuda"
  },
  "language_info": {
   "codemirror_mode": {
    "name": "ipython",
    "version": 3
   },
   "file_extension": ".py",
   "mimetype": "text/x-python",
   "name": "python",
   "nbconvert_exporter": "python",
   "pygments_lexer": "ipython3",
   "version": "3.12.4"
  }
 },
 "nbformat": 4,
 "nbformat_minor": 2
}
