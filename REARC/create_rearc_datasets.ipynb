{
 "cells": [
  {
   "cell_type": "markdown",
   "metadata": {},
   "source": [
    "### Requirements"
   ]
  },
  {
   "cell_type": "code",
   "execution_count": 1,
   "metadata": {},
   "outputs": [],
   "source": [
    "# %pip install -r requirements.txt"
   ]
  },
  {
   "cell_type": "markdown",
   "metadata": {},
   "source": [
    "### Dependencies"
   ]
  },
  {
   "cell_type": "code",
   "execution_count": 2,
   "metadata": {},
   "outputs": [
    {
     "data": {
      "text/plain": [
       "<torch._C.Generator at 0x7f45e8a9ca50>"
      ]
     },
     "execution_count": 2,
     "metadata": {},
     "output_type": "execute_result"
    }
   ],
   "source": [
    "import os\n",
    "import random\n",
    "import torch\n",
    "import json\n",
    "from pathlib import Path    # use this maybe for better cross-platform dependencies\n",
    "\n",
    "random.seed(1997)\n",
    "torch.manual_seed(1997)"
   ]
  },
  {
   "cell_type": "markdown",
   "metadata": {},
   "source": [
    "### Global variables"
   ]
  },
  {
   "cell_type": "code",
   "execution_count": null,
   "metadata": {},
   "outputs": [],
   "source": []
  },
  {
   "cell_type": "markdown",
   "metadata": {},
   "source": [
    "### Generation of Original Data"
   ]
  },
  {
   "cell_type": "code",
   "execution_count": 3,
   "metadata": {},
   "outputs": [],
   "source": [
    "GENERATE_ORIGINAL_DATA = False"
   ]
  },
  {
   "cell_type": "code",
   "execution_count": null,
   "metadata": {},
   "outputs": [],
   "source": [
    "# Global variables (for both data generation and creation of the dataset splits)\n",
    "\n",
    "N_TASKS = 10\n",
    "N_SAMPLES = 102000   # NOTE: we should consider in that value also the number of samples that will be used for validation and for test"
   ]
  },
  {
   "cell_type": "code",
   "execution_count": 5,
   "metadata": {},
   "outputs": [],
   "source": [
    "# Useful for iterative development\n",
    "%load_ext autoreload\n",
    "%autoreload 2"
   ]
  },
  {
   "cell_type": "code",
   "execution_count": 6,
   "metadata": {},
   "outputs": [],
   "source": [
    "# path: where to save the generated data\n",
    "# seed: random seed\n",
    "# n_tasks: number of tasks to generate\n",
    "# n_examples: number of examples to generate per task (400 tasks in total)\n",
    "# diff_lb: lower bound of the sampled level of difficulty of the example\n",
    "# diff_ub: upper bound of the sampled level of difficulty of the example\n",
    "# specific_tasks: list of specific tasks (specified by their name without the file extension .json) to generate (if empty, generate n_tasks tasks)\n",
    "\n",
    "if GENERATE_ORIGINAL_DATA:\n",
    "\n",
    "    import generate_rearc_data\n",
    "\n",
    "    # Parameters\n",
    "    base_data_dir = './generated_data'\n",
    "    seed = 1997\n",
    "    n_tasks = N_TASKS    # max is 400; tasks are randomly selected unless specific_tasks is provided\n",
    "    n_examples = N_SAMPLES  # NOTE: ideally we would generate 100k or 1M samples per task\n",
    "    difficulties_lb = [0.0, 0.0, 0.7]\n",
    "    difficulties_ub = [0.4, 0.7, 1.0]\n",
    "    specific_tasks = []\n",
    "\n",
    "    assert len(difficulties_lb) == len(difficulties_ub), \"The number of lower bounds and upper bounds of the level of difficulty must be the same as they define a range.\"\n",
    "\n",
    "    # Generate data\n",
    "    generate_rearc_data.main(base_data_dir, seed, n_tasks, n_examples, difficulties_lb, difficulties_ub, specific_tasks)\n"
   ]
  },
  {
   "cell_type": "markdown",
   "metadata": {},
   "source": [
    "### Pre-processing of Generated Data"
   ]
  },
  {
   "cell_type": "code",
   "execution_count": 7,
   "metadata": {},
   "outputs": [],
   "source": [
    "# Create a json file that contains a dict that maps a task name to an id (positive integer)\n",
    "# This is useful to later create a task embedding to be used by a model when making a prediction. Some simple ICL.\n",
    "def create_task_name_to_id_dict(json_file_path):\n",
    "    task_name_to_id_dict = {}\n",
    "    for i, task_file in enumerate(os.listdir('./external/arc_original/training')):\n",
    "        task_name_to_id_dict[task_file.split('.')[0]] = i\n",
    "\n",
    "    with open(json_file_path, 'w') as f:\n",
    "        json.dump(task_name_to_id_dict, f)\n",
    "\n",
    "final_datasets_folder = \"./final_datasets\"\n",
    "if not os.path.exists(final_datasets_folder):\n",
    "    os.makedirs(final_datasets_folder)\n",
    "\n",
    "create_task_name_to_id_dict(f\"./{final_datasets_folder}/REARC_task_name_to_id.json\")"
   ]
  },
  {
   "cell_type": "code",
   "execution_count": 8,
   "metadata": {},
   "outputs": [],
   "source": [
    "# The data in the generated_data_<...> folder are JSON files.\n",
    "# Each JSON file relates to one of the 400 tasks through an id such as \"ff805c23\".\n",
    "# The JSON file contains a list of dictionaries with keys 'input' and 'output' where both 'input' and output are a list of list of symbols (integers 0-9).\n",
    "# Hence, each dictionary in the list is a sample input-output pair for the task.\n",
    "\n",
    "# The intended structure for storing the data should be:\n",
    "# REARC/\n",
    "#     final_datasets/\n",
    "#         {study}/\n",
    "#             exp_setting_{index}/\n",
    "#                 experiment_{index}/\n",
    "#                   train.json/ \n",
    "#                   val.json/\n",
    "#                   test.json/"
   ]
  },
  {
   "cell_type": "code",
   "execution_count": 9,
   "metadata": {},
   "outputs": [
    {
     "name": "stdout",
     "output_type": "stream",
     "text": [
      "Tasks available to be selected: ['5daaa586', '2bcee788', 'f15e1fac', '6d0160f0', 'e9afcf9a', 'd9f24cd1', '4be741c5', '5521c0d9', 'f8b3ba0a', 'd406998b']\n",
      "Selected task files: ['6d0160f0.json', '2bcee788.json', 'd406998b.json', 'f8b3ba0a.json', 'd9f24cd1.json', '4be741c5.json', '5521c0d9.json', 'e9afcf9a.json', 'f15e1fac.json', '5daaa586.json']\n",
      "102000\n",
      "102000\n",
      "102000\n",
      "102000\n",
      "102000\n",
      "102000\n",
      "102000\n",
      "102000\n",
      "102000\n",
      "102000\n",
      "Sets of tasks with samples successfully created in samples_difficulty_lb0_ub04\n",
      "102000\n",
      "102000\n",
      "102000\n",
      "102000\n",
      "102000\n",
      "102000\n",
      "102000\n",
      "102000\n",
      "102000\n",
      "102000\n",
      "Sets of tasks with samples successfully created in samples_difficulty_lb0_ub07\n",
      "102000\n",
      "102000\n",
      "102000\n",
      "102000\n",
      "102000\n",
      "102000\n",
      "102000\n",
      "102000\n",
      "102000\n",
      "102000\n",
      "Sets of tasks with samples successfully created in samples_difficulty_lb07_ub1\n",
      "102000\n",
      "102000\n",
      "102000\n",
      "102000\n",
      "102000\n",
      "102000\n",
      "102000\n",
      "102000\n",
      "102000\n",
      "102000\n",
      "Sets of tasks with samples successfully created in samples_difficulty_lb0_ub1\n"
     ]
    }
   ],
   "source": [
    "# NOTE: this is where we define the folders from which we create the datasets. \n",
    "# The folders samples_difficulty_<.> are created in final_datasets and contain \n",
    "# the samples for the different levels of difficulty to avoid overwriting or confusion with the generated data folders.\n",
    "\n",
    "# N_TASKS is to set the number of tasks to the maximum number of different tasks found in ALL the samples_difficulty_<.> folders\n",
    "# N_SAMPLES is to set the number of samples to the maximum number of samples found in ALL the samples_difficulty_<.> folders\n",
    "\n",
    "# Select nb_tasks tasks randomly among the tasks for which samples were generated\n",
    "def select_tasks_randomly(data_source_folder, nb_tasks):\n",
    "\n",
    "    # Get the task names from the .txt file data_source_folder\n",
    "    with open(data_source_folder, 'r') as f:\n",
    "        tasks_selected = f.readlines()\n",
    "    \n",
    "    tasks_selected = [task.strip() for task in tasks_selected]\n",
    "    print(f\"Tasks available to be selected: {tasks_selected}\")\n",
    "\n",
    "    # Select random tasks\n",
    "    selected_files = random.sample(tasks_selected, nb_tasks)\n",
    "\n",
    "    selected_files = [task+\".json\" for task in selected_files]\n",
    "    print(f\"Selected task files: {selected_files}\")\n",
    "\n",
    "    return selected_files\n",
    "\n",
    "def create_difficulty_samples_sets(tasks, nb_samples, difficulty_name):\n",
    "\n",
    "    tasks_paths = [Path(f\"./generated_data_{difficulty_name}\") / \"tasks\" / task for task in tasks]\n",
    "    structured_data_target_folder = f\"samples_difficulty_{difficulty_name}\"\n",
    "\n",
    "    for task_path in tasks_paths:\n",
    "        with open(task_path, 'r') as f:\n",
    "            data = json.load(f)\n",
    "        \n",
    "        # Get the name of the task\n",
    "        task_name = task_path.stem\n",
    "\n",
    "        samples_difficulty_folder = Path(\"./final_datasets\") / structured_data_target_folder\n",
    "        samples_difficulty_folder.mkdir(parents=True, exist_ok=True)\n",
    "\n",
    "        print(len(data))  # number of samples in the task\n",
    "        \n",
    "        sampled_data = random.sample(data, nb_samples)\n",
    "\n",
    "        # Add the task name and difficulty information to each sample\n",
    "        for sample in sampled_data:\n",
    "            sample[\"task\"] = task_name\n",
    "            sample[\"sample_difficulty\"] = difficulty_name\n",
    "        \n",
    "        with open(samples_difficulty_folder / f\"{task_name}.json\", 'w') as f:\n",
    "            json.dump(sampled_data, f, indent=4)\n",
    "    \n",
    "    print(f\"Sets of tasks with samples successfully created in {structured_data_target_folder}\")\n",
    "\n",
    "\n",
    "data_source_folder=\"./tasks_generated.txt\"   # NOTE: this should be the path to a folder whose tasks are all present in all the other folders of different tasks levels of difficulty\n",
    "tasks = select_tasks_randomly(data_source_folder, N_TASKS)\n",
    "\n",
    "# Use for Sample-Efficiency study\n",
    "difficulty_name = \"lb0_ub04\" \n",
    "create_difficulty_samples_sets(\n",
    "    tasks=tasks,\n",
    "    nb_samples=N_SAMPLES,\n",
    "    difficulty_name=difficulty_name\n",
    ")\n",
    "\n",
    "# Use for Systematic Generalization study\n",
    "difficulty_name = \"lb0_ub07\"\n",
    "create_difficulty_samples_sets(\n",
    "    tasks=tasks,\n",
    "    nb_samples=N_SAMPLES,\n",
    "    difficulty_name=difficulty_name,\n",
    ")\n",
    "\n",
    "difficulty_name = \"lb07_ub1\"\n",
    "create_difficulty_samples_sets(\n",
    "    tasks=tasks,\n",
    "    nb_samples=N_SAMPLES,\n",
    "    difficulty_name=difficulty_name,\n",
    ")\n",
    "\n",
    "# Added this as in the ViTARC paper they sample in [0,1]\n",
    "difficulty_name = \"lb0_ub1\"\n",
    "create_difficulty_samples_sets(\n",
    "    tasks=tasks,\n",
    "    nb_samples=N_SAMPLES,\n",
    "    difficulty_name=difficulty_name,\n",
    ")\n"
   ]
  },
  {
   "cell_type": "code",
   "execution_count": 10,
   "metadata": {},
   "outputs": [],
   "source": [
    "import os\n",
    "from collections import Counter\n",
    "\n",
    "def create_list_of_chosen_tasks(folders, destination):\n",
    "    \n",
    "    os.makedirs(destination, exist_ok=True)\n",
    "    \n",
    "    # Get list of files in each folder\n",
    "    file_occurrences = Counter()\n",
    "    folder_files = {}\n",
    "    \n",
    "    for folder in folders:\n",
    "        files = set(os.listdir(folder))\n",
    "        folder_files[folder] = files\n",
    "        file_occurrences.update(files)\n",
    "    \n",
    "    # Find files that appear in all folders\n",
    "    task_files = {file for file, count in file_occurrences.items() if count == len(folders)}\n",
    "    \n",
    "    all_task_names_chosen = []\n",
    "    for file in task_files:\n",
    "        for folder in folders:\n",
    "            source_path = os.path.join(folder, file)\n",
    "            if os.path.isfile(source_path):\n",
    "                all_task_names_chosen.append(file.replace('.json', ''))\n",
    "                break  # we copy only once from the first found folder\n",
    "    \n",
    "    # Save in a text file the task names chosen for the experiments\n",
    "    with open(os.path.join(destination, 'chosen_tasks.txt'), 'w') as f:\n",
    "        for task in all_task_names_chosen:\n",
    "            f.write(task + '\\n')\n",
    "\n",
    "all_sample_difficulties_folders = ['./final_datasets/samples_difficulty_lb0_ub04', \n",
    "                                   './final_datasets/samples_difficulty_lb0_ub07', \n",
    "                                   './final_datasets/samples_difficulty_lb07_ub1',\n",
    "                                   './final_datasets/samples_difficulty_lb0_ub1'\n",
    "                                   ]\n",
    "\n",
    "# NOTE: not used for now. It is useful in case the tasks considered to create the experiments would be different than the ones in the file \"tasks_generated.txt\"\n",
    "# create_list_of_chosen_tasks(all_sample_difficulties_folders, './final_datasets')"
   ]
  },
  {
   "cell_type": "markdown",
   "metadata": {},
   "source": [
    "### General Functions and Classes"
   ]
  },
  {
   "cell_type": "code",
   "execution_count": 11,
   "metadata": {},
   "outputs": [],
   "source": [
    "def get_tasks_names_from_folder(tasks_folder):\n",
    "    return [task.stem for task in Path(tasks_folder).glob(\"*.json\")]"
   ]
  },
  {
   "cell_type": "code",
   "execution_count": 12,
   "metadata": {},
   "outputs": [],
   "source": [
    "import torch\n",
    "import torch.nn.functional as F\n",
    "from torch.utils.data import Dataset, DataLoader\n",
    "import json"
   ]
  },
  {
   "cell_type": "code",
   "execution_count": 13,
   "metadata": {},
   "outputs": [],
   "source": [
    "# Subclass PyTorch Dataset so that it can then be loaded with a DataLoader\n",
    "class CustomREARCDataset(Dataset):\n",
    "    def __init__(self, json_data_split_path, use_padding=False):\n",
    "        super().__init__()\n",
    "        \n",
    "        with open(json_data_split_path, 'r') as f:\n",
    "            self.samples = json.load(f)\n",
    "        \n",
    "        self.n_samples = len(self.samples)\n",
    "\n",
    "        self.use_padding = use_padding\n",
    "        self.max_grid_size = (30, 30)  # maximum grid size\n",
    "\n",
    "    def pad_sample(self, sample):\n",
    "        sample_tensor = torch.tensor(sample, dtype=torch.long)\n",
    "\n",
    "        padded_sample_tensor = F.pad(\n",
    "            sample_tensor, \n",
    "            (0, self.max_grid_size[1] - sample_tensor.shape[1],  # pad width\n",
    "             0, self.max_grid_size[0] - sample_tensor.shape[0]), # pad height\n",
    "            value=10  # padding value\n",
    "        )\n",
    "        return padded_sample_tensor\n",
    "    \n",
    "    def __len__(self):\n",
    "        return self.n_samples\n",
    "    \n",
    "    def __getitem__(self, idx):\n",
    "        \n",
    "        sample = self.samples[idx]\n",
    "        \n",
    "        input_sample = torch.tensor(sample['input'], dtype=torch.long)\n",
    "        output_sample = torch.tensor(sample['output'], dtype=torch.long)\n",
    "\n",
    "        if self.use_padding:\n",
    "            input_sample = self.pad_sample(input_sample)\n",
    "            output_sample = self.pad_sample(output_sample)\n",
    "        \n",
    "        return input_sample, output_sample  # NOTE: would it be better to return a concatenated tensor instead of a tuple?"
   ]
  },
  {
   "cell_type": "code",
   "execution_count": 14,
   "metadata": {},
   "outputs": [],
   "source": [
    "# NOTE:\n",
    "# The DataLoader batches multiple samples together, but it requires all tensors in a batch to have the same shape to stack them into a single tensor.\n",
    "# If our dataset has samples of different sizes (e.g., one sample is 16x14 and another is 16x13), torch.stack() will fail within the dataloader.\n",
    "# Therefore, we need to use padding. Padding can be either done dynamically for the Dataloader object or pre-determined for the Dataset object."
   ]
  },
  {
   "cell_type": "code",
   "execution_count": 15,
   "metadata": {},
   "outputs": [],
   "source": [
    "import matplotlib.pyplot as plt\n",
    "from matplotlib.colors import ListedColormap, Normalize\n",
    "\n",
    "def display_grid_image(sample, title=None):\n",
    "\n",
    "    if isinstance(sample, dict):\n",
    "        input_data = sample['input']\n",
    "        output_data = sample['output']\n",
    "    elif isinstance(sample, tuple):\n",
    "        input_data, output_data = sample\n",
    "\n",
    "    # Use the same color map as REARC\n",
    "    cmap = ListedColormap([\n",
    "        '#000', '#0074D9', '#FF4136', '#2ECC40', '#FFDC00',\n",
    "        '#AAAAAA', '#F012BE', '#FF851B', '#7FDBFF', '#870C25'\n",
    "    ])\n",
    "    norm = Normalize(vmin=0, vmax=9)\n",
    "    args = {'cmap': cmap, 'norm': norm}\n",
    "\n",
    "    # Define figure size\n",
    "    fig, axes = plt.subplots(1, 2, figsize=(6, 3))  # 1 row, 2 columns\n",
    "\n",
    "    # Plot input grid image\n",
    "    axes[0].imshow(input_data, **args)\n",
    "    axes[0].set_title(\"Input\")\n",
    "    axes[0].axis('off')\n",
    "\n",
    "    # Plot output grid image\n",
    "    axes[1].imshow(output_data, **args)\n",
    "    axes[1].set_title(\"Output\")\n",
    "    axes[1].axis('off')\n",
    "\n",
    "    if title:\n",
    "        fig.suptitle(title, fontsize=16)\n",
    "\n",
    "    plt.tight_layout()\n",
    "    plt.show()\n",
    "\n",
    "\n",
    "# Test viewing a generated data sample\n",
    "task_file = None\n",
    "\n",
    "if task_file is not None:\n",
    "    dataset = CustomREARCDataset(task_file, use_padding=False)\n",
    "    sample_tuple = dataset[0]\n",
    "    display_grid_image(sample_tuple, title=\"Sample\")"
   ]
  },
  {
   "cell_type": "code",
   "execution_count": 16,
   "metadata": {},
   "outputs": [],
   "source": [
    "if task_file is not None:\n",
    "    dataset = CustomREARCDataset(task_file, use_padding=True)\n",
    "    sample_tuple = dataset[0]\n",
    "    display_grid_image(sample_tuple, title=\"Sample\")"
   ]
  },
  {
   "cell_type": "code",
   "execution_count": 17,
   "metadata": {},
   "outputs": [],
   "source": [
    "def collate_fn(batch):\n",
    "    inputs = [torch.tensor(sample[0], dtype=torch.long) for sample in batch]\n",
    "    outputs = [torch.tensor(sample[1], dtype=torch.long) for sample in batch]\n",
    "\n",
    "    max_grid_size = (30, 30)\n",
    "\n",
    "    if not (inputs[0].shape[0] == max_grid_size[0] and inputs[0].shape[1] == max_grid_size[1]): # check if need to pad\n",
    "\n",
    "        def pad_tensor(tensor, max_h, max_w):\n",
    "            return F.pad(tensor, (0, max_w - tensor.shape[1], 0, max_h - tensor.shape[0]), value=0)\n",
    "\n",
    "        inputs = torch.stack([pad_tensor(t, max_grid_size[0], max_grid_size[1]) for t in inputs])\n",
    "        outputs = torch.stack([pad_tensor(t, max_grid_size[0], max_grid_size[1]) for t in outputs])\n",
    "\n",
    "    return inputs, outputs\n",
    "\n",
    "# Sanity check\n",
    "def check_REARC_dataloader(dataset_split_path, use_dataloader_padding=False):\n",
    "    dataset = CustomREARCDataset(dataset_split_path, use_padding=False)\n",
    "\n",
    "    if use_dataloader_padding:\n",
    "        dataloader = DataLoader(dataset, batch_size=4, shuffle=False, collate_fn=collate_fn)\n",
    "    else:\n",
    "        dataloader = DataLoader(dataset, batch_size=4, shuffle=False)\n",
    "\n",
    "    # sample_from_dataset = dataset[0]\n",
    "    # print(\"Sample from dataset: \", sample_from_dataset)\n",
    "\n",
    "    # sample_from_dataloader = next(iter(dataloader))\n",
    "    # print(\"Sample from dataloader: \", sample_from_dataloader)\n",
    "\n",
    "    for input_batch, output_batch in dataloader:\n",
    "        print(\"Input batch shape: \", input_batch.shape)\n",
    "        print(\"Output batch shape: \", output_batch.shape)\n",
    "        sample = input_batch[0], output_batch[0]\n",
    "        break\n",
    "\n",
    "    if sample is None:\n",
    "        raise ValueError(\"No sample found in the dataloader\")\n",
    "\n",
    "    display_grid_image(sample, title=\"Sample from dataloader\")\n",
    "\n",
    "    return dataloader\n"
   ]
  },
  {
   "cell_type": "code",
   "execution_count": 18,
   "metadata": {},
   "outputs": [],
   "source": [
    "def save_new_dataset_split(experiment_folder_path, split, data_json):\n",
    "    \n",
    "    # Save the selected samples to a JSON file with the name of the split\n",
    "    json_dataset_split_path = f\"{experiment_folder_path}/{split}.json\"\n",
    "    os.makedirs(os.path.dirname(json_dataset_split_path), exist_ok=True)\n",
    "   \n",
    "    with open(json_dataset_split_path, \"w\") as f:\n",
    "        json.dump(data_json, f, indent=4)\n",
    "\n",
    "    print(f\"New dataset created at: {json_dataset_split_path}\")"
   ]
  },
  {
   "cell_type": "code",
   "execution_count": 19,
   "metadata": {},
   "outputs": [],
   "source": [
    "def create_datasets_sample_efficiency(study_folder_path, experiment_setting):\n",
    "    study = \"sample-efficiency\"\n",
    "\n",
    "    assert len(experiment_setting['splits']) == 3, \"The number of splits must be 3 (for train, val, test)\"\n",
    "\n",
    "    exp_setting_folder_path = f\"{study_folder_path}/exp_setting_{experiment_setting['index']}\"\n",
    "    print(\"Created path experiment setting: \", exp_setting_folder_path)\n",
    "\n",
    "    if experiment_setting['index'] == \"1\":\n",
    "        experiment_index = 0\n",
    "\n",
    "        for task_name in experiment_setting['tasks']:\n",
    "            for train_size, val_size, test_size in zip(experiment_setting['train_sizes'], experiment_setting['val_sizes'], experiment_setting['test_sizes']):\n",
    "                experiment_index += 1\n",
    "\n",
    "                experiment_folder_path = f\"{exp_setting_folder_path}/experiment_{experiment_index}\"\n",
    "                os.makedirs(experiment_folder_path, exist_ok=True)\n",
    "                print(\"Created path experiment: \", experiment_folder_path)\n",
    "\n",
    "                # Select disjointly train_size, val_size, test_size samples for each task from the samples difficulty folder with tasks json files\n",
    "                task = f\"./final_datasets/samples_difficulty_{experiment_setting['diff_level']}/{task_name}.json\"\n",
    "                with open(task, 'r') as f:\n",
    "                    data = json.load(f)\n",
    "\n",
    "                random.shuffle(data)\n",
    "\n",
    "                print(f\"Task {task_name} has {len(data)} samples\")\n",
    "                \n",
    "                split = \"train\"\n",
    "                train_data = data[:train_size]\n",
    "                save_new_dataset_split(experiment_folder_path, split, train_data)\n",
    "    \n",
    "                split = \"val\"\n",
    "                val_data = data[train_size:train_size+val_size]\n",
    "                save_new_dataset_split(experiment_folder_path, split, val_data)\n",
    "\n",
    "                split = \"test\"\n",
    "                test_data = data[train_size+val_size:train_size+val_size+test_size]\n",
    "                save_new_dataset_split(experiment_folder_path, split, test_data)\n",
    "\n",
    "                # Save metadata (all the variables that take a different value as the variable experiment_index changes) about the dataset\n",
    "                experiment_metadata = {\n",
    "                    'study': study,\n",
    "                    'experiment_setting': experiment_setting,\n",
    "                    'experiment_index': experiment_index,\n",
    "                    'task': task_name,\n",
    "                    'train_size': train_size,\n",
    "                    'val_size': val_size,\n",
    "                    'test_size': test_size,\n",
    "                }\n",
    "                \n",
    "                metadata_dataset_path = f\"{experiment_folder_path}/dataset_metadata.json\"\n",
    "                with open(metadata_dataset_path, \"w\") as f:\n",
    "                    json.dump(experiment_metadata, f, indent=4)\n",
    "                \n",
    "                print(f\"Metadata about the created experiment dataset saved at: {metadata_dataset_path}\")\n",
    "\n"
   ]
  },
  {
   "cell_type": "code",
   "execution_count": 20,
   "metadata": {},
   "outputs": [],
   "source": [
    "def create_datasets_systematic_generalization(study_folder_path, experiment_setting):\n",
    "    study = \"sys-gen\"\n",
    "\n",
    "    assert len(experiment_setting['splits']) == 4, \"The number of splits must be 4 (for train, val, test, gen_test)\"\n",
    "\n",
    "    exp_setting_folder_path = f\"{study_folder_path}/exp_setting_{experiment_setting['index']}\"\n",
    "    print(\"Created path experiment setting: \", exp_setting_folder_path)\n",
    "\n",
    "    if experiment_setting['index'] == \"1\":\n",
    "        experiment_index = 0\n",
    "\n",
    "        for task_name in experiment_setting['tasks']:\n",
    "            for train_size, val_size, test_size, gen_test_size in zip(experiment_setting['train_sizes'], experiment_setting['val_sizes'], experiment_setting['test_sizes'], experiment_setting['gen_test_sizes']):\n",
    "                experiment_index += 1\n",
    "\n",
    "                experiment_folder_path = f\"{exp_setting_folder_path}/experiment_{experiment_index}\"\n",
    "                os.makedirs(experiment_folder_path, exist_ok=True)\n",
    "                print(\"Created path experiment: \", experiment_folder_path)\n",
    "\n",
    "                # Select disjointly train_size and test_size samples for each task from the easier samples difficulty folder with tasks json files\n",
    "                task = f\"./final_datasets/samples_difficulty_{experiment_setting['diff_level_easier']}/{task_name}.json\"\n",
    "                with open(task, 'r') as f:\n",
    "                    data = json.load(f)\n",
    "\n",
    "                random.shuffle(data)\n",
    "\n",
    "                print(f\"Task {task_name} has {len(data)} train samples\")\n",
    "\n",
    "                # Select disjointly val_size and gen_test_size samples for each task from the harder samples difficulty folder with tasks json files\n",
    "                task = f\"./final_datasets/samples_difficulty_{experiment_setting['diff_level_harder']}/{task_name}.json\"\n",
    "                with open(task, 'r') as f:\n",
    "                    gen_data = json.load(f)\n",
    "                \n",
    "                random.shuffle(gen_data)\n",
    "\n",
    "                print(f\"Task {task_name} has {len(gen_data)} OOD generalization samples\")\n",
    "                # print(\"Generalization Data in the task are: \", data)\n",
    "\n",
    "                split = \"train\"\n",
    "                train_data = data[:train_size]\n",
    "                save_new_dataset_split(experiment_folder_path, split, train_data)\n",
    "    \n",
    "                # Use it to validate the trained model on OOD samples\n",
    "                split = \"val\"\n",
    "                val_data = gen_data[:val_size]\n",
    "                save_new_dataset_split(experiment_folder_path, split, val_data)\n",
    "\n",
    "                # Use it to test the trained model on in-domain samples, for sanity check and in-domain generalization\n",
    "                split = \"test\"\n",
    "                test_data = data[train_size:train_size+test_size]\n",
    "                save_new_dataset_split(experiment_folder_path, split, test_data)\n",
    "\n",
    "                # Use it to test the trained model on OOD samples, for systematic generalization\n",
    "                split = \"gen_test\"\n",
    "                gen_test_data = gen_data[val_size:val_size+gen_test_size]\n",
    "                save_new_dataset_split(experiment_folder_path, split, gen_test_data)\n",
    "\n",
    "                # Save metadata (all the variables that take a different value as the variable experiment_index changes) about the dataset\n",
    "                experiment_metadata = {\n",
    "                    'study': study,\n",
    "                    'experiment_setting': experiment_setting,\n",
    "                    'experiment_index': experiment_index,\n",
    "                    'task': task_name,\n",
    "                    'train_size': train_size,\n",
    "                    'val_size': val_size,\n",
    "                    'test_size': test_size,\n",
    "                }\n",
    "                \n",
    "                metadata_dataset_path = f\"{experiment_folder_path}/dataset_metadata.json\"\n",
    "                with open(metadata_dataset_path, \"w\") as f:\n",
    "                    json.dump(experiment_metadata, f, indent=4)\n",
    "                \n",
    "                print(f\"Metadata about the created experiment dataset saved at: {metadata_dataset_path}\")\n"
   ]
  },
  {
   "cell_type": "code",
   "execution_count": 21,
   "metadata": {},
   "outputs": [],
   "source": [
    "def create_dataset(study_folder_path, study, experiment_setting):\n",
    "\n",
    "    if study == \"sample-efficiency\":\n",
    "        create_datasets_sample_efficiency(study_folder_path, experiment_setting)\n",
    "\n",
    "    elif study == \"sys-gen\":\n",
    "        create_datasets_systematic_generalization(study_folder_path, experiment_setting)\n",
    "\n",
    "    else:\n",
    "        raise ValueError(\"Study must be one of 'sample-efficiency', 'compositionality', or 'sys-gen'\")\n"
   ]
  },
  {
   "cell_type": "markdown",
   "metadata": {},
   "source": [
    "### Main"
   ]
  },
  {
   "cell_type": "code",
   "execution_count": 22,
   "metadata": {},
   "outputs": [
    {
     "name": "stdout",
     "output_type": "stream",
     "text": [
      "Data source root: ./generated_data\n",
      "Final datasets root: ./final_datasets\n",
      "Sample efficiency folder: ./final_datasets/sample-efficiency\n",
      "Systematic Generalization folder: ./final_datasets/sys-gen\n"
     ]
    }
   ],
   "source": [
    "# Define the folders that will be used for the datasets\n",
    "# data_environment = \"REARC\"\n",
    "data_source_root = \"./generated_data\"  # Root directory for datasets\n",
    "final_datasets_root = \"./final_datasets\"  # Root directory for datasets\n",
    "\n",
    "# Define and create the directories for each dataset setting\n",
    "sample_efficiency_dir = f\"{final_datasets_root}/sample-efficiency\"\n",
    "sys_gen_dir = f\"{final_datasets_root}/sys-gen\"\n",
    "\n",
    "os.makedirs(sample_efficiency_dir, exist_ok=True)\n",
    "os.makedirs(sys_gen_dir, exist_ok=True)\n",
    "\n",
    "print(f\"Data source root: {data_source_root}\")\n",
    "print(f\"Final datasets root: {final_datasets_root}\")\n",
    "\n",
    "print(f\"Sample efficiency folder: {sample_efficiency_dir}\")\n",
    "print(f\"Systematic Generalization folder: {sys_gen_dir}\")\n"
   ]
  },
  {
   "cell_type": "code",
   "execution_count": null,
   "metadata": {},
   "outputs": [],
   "source": [
    "def observe_input_output_images(dataloader, batch_id=0, n_samples=4, split=\"test\"):\n",
    "\n",
    "    # Get the first batch of the dataloader\n",
    "    batch = next(iter(dataloader))\n",
    "\n",
    "    # Get the input and output images\n",
    "    inputs = batch[0]\n",
    "    outputs = batch[1]\n",
    "\n",
    "    # Get the number of samples to observe\n",
    "    n_samples = min(n_samples, len(inputs))\n",
    "\n",
    "    # Replace the symbols for pad tokens with the background color\n",
    "    # TODO: How to handle the pad token properly? For example if its decided value is not 10.0 anymore as it was changed in the other parts of the code?\n",
    "    pad_token = 10\n",
    "    inputs[inputs == pad_token] = 0\n",
    "    outputs[outputs == pad_token] = 0\n",
    "\n",
    "    # Use the same color map as REARC\n",
    "    cmap = ListedColormap([\n",
    "        '#000', '#0074D9', '#FF4136', '#2ECC40', '#FFDC00',\n",
    "        '#AAAAAA', '#F012BE', '#FF851B', '#7FDBFF', '#870C25'\n",
    "    ])\n",
    "    norm = Normalize(vmin=0, vmax=9)    # there are 10 possible symbols (0-9) to predict in the grid image\n",
    "    args = {'cmap': cmap, 'norm': norm}\n",
    "\n",
    "    # Create a figure to plot the samples\n",
    "    fig, axs = plt.subplots(2, n_samples, figsize=(n_samples*5, 12))\n",
    "\n",
    "    print(f\"inputs shape: {inputs.shape}, outputs shape: {outputs.shape}\")\n",
    "    print(f\"inputs dtype: {inputs.dtype}, outputs dtype: {outputs.dtype}\")\n",
    "    print(f\"inputs min: {inputs.min()}, outputs min: {outputs.min()}\")\n",
    "    print(f\"inputs max: {inputs.max()}, outputs max: {outputs.max()}\")\n",
    "    print(f\"inputs: {inputs}\")\n",
    "    print(f\"outputs: {outputs}\")\n",
    "\n",
    "    for i in range(n_samples):\n",
    "        input_img = inputs[i, :, :].numpy()\n",
    "        target = outputs[i, :, :].cpu().numpy()\n",
    "\n",
    "        # Plot the input image\n",
    "        axs[0, i].imshow(input_img, **args)\n",
    "        axs[0, i].set_title(f\"Input (sample {i} of batch)\")\n",
    "        axs[0, i].axis('off')\n",
    "\n",
    "        # Plot the target output\n",
    "        axs[1, i].imshow(target, **args)\n",
    "        axs[1, i].set_title(f\"Output (sample {i} of batch)\")\n",
    "        axs[1, i].axis('off')\n",
    "\n",
    "        fig.suptitle(f\"{split} batch {batch_id}\", fontsize=16)\n",
    "\n",
    "    plt.tight_layout()\n",
    "    plt.show()\n",
    "\n",
    "    # Save the figure\n",
    "    # fig.savefig(f\"./ipynb_{split}_image_input_output_batch{batch_id}.png\")\n",
    "\n",
    "    plt.close()"
   ]
  },
  {
   "cell_type": "markdown",
   "metadata": {},
   "source": [
    "## Studies"
   ]
  },
  {
   "cell_type": "markdown",
   "metadata": {},
   "source": [
    "### Sample-Efficiency"
   ]
  },
  {
   "cell_type": "code",
   "execution_count": 24,
   "metadata": {},
   "outputs": [
    {
     "data": {
      "text/plain": [
       "<torch._C.Generator at 0x7f45e8a9ca50>"
      ]
     },
     "execution_count": 24,
     "metadata": {},
     "output_type": "execute_result"
    }
   ],
   "source": [
    "random.seed(1997)\n",
    "torch.manual_seed(1997)"
   ]
  },
  {
   "cell_type": "code",
   "execution_count": 25,
   "metadata": {},
   "outputs": [],
   "source": [
    "study = \"sample-efficiency\""
   ]
  },
  {
   "cell_type": "code",
   "execution_count": null,
   "metadata": {},
   "outputs": [
    {
     "name": "stdout",
     "output_type": "stream",
     "text": [
      "Created path experiment setting:  ./final_datasets/sample-efficiency/exp_setting_1\n",
      "Created path experiment:  ./final_datasets/sample-efficiency/exp_setting_1/experiment_1\n",
      "Task 5daaa586 has 102000 samples\n",
      "New dataset created at: ./final_datasets/sample-efficiency/exp_setting_1/experiment_1/train.json\n",
      "New dataset created at: ./final_datasets/sample-efficiency/exp_setting_1/experiment_1/val.json\n",
      "New dataset created at: ./final_datasets/sample-efficiency/exp_setting_1/experiment_1/test.json\n",
      "Metadata about the created experiment dataset saved at: ./final_datasets/sample-efficiency/exp_setting_1/experiment_1/dataset_metadata.json\n",
      "Created path experiment:  ./final_datasets/sample-efficiency/exp_setting_1/experiment_2\n",
      "Task 5daaa586 has 102000 samples\n",
      "New dataset created at: ./final_datasets/sample-efficiency/exp_setting_1/experiment_2/train.json\n",
      "New dataset created at: ./final_datasets/sample-efficiency/exp_setting_1/experiment_2/val.json\n",
      "New dataset created at: ./final_datasets/sample-efficiency/exp_setting_1/experiment_2/test.json\n",
      "Metadata about the created experiment dataset saved at: ./final_datasets/sample-efficiency/exp_setting_1/experiment_2/dataset_metadata.json\n",
      "Created path experiment:  ./final_datasets/sample-efficiency/exp_setting_1/experiment_3\n",
      "Task 5daaa586 has 102000 samples\n",
      "New dataset created at: ./final_datasets/sample-efficiency/exp_setting_1/experiment_3/train.json\n",
      "New dataset created at: ./final_datasets/sample-efficiency/exp_setting_1/experiment_3/val.json\n",
      "New dataset created at: ./final_datasets/sample-efficiency/exp_setting_1/experiment_3/test.json\n",
      "Metadata about the created experiment dataset saved at: ./final_datasets/sample-efficiency/exp_setting_1/experiment_3/dataset_metadata.json\n",
      "Created path experiment:  ./final_datasets/sample-efficiency/exp_setting_1/experiment_4\n",
      "Task 5daaa586 has 102000 samples\n",
      "New dataset created at: ./final_datasets/sample-efficiency/exp_setting_1/experiment_4/train.json\n",
      "New dataset created at: ./final_datasets/sample-efficiency/exp_setting_1/experiment_4/val.json\n",
      "New dataset created at: ./final_datasets/sample-efficiency/exp_setting_1/experiment_4/test.json\n",
      "Metadata about the created experiment dataset saved at: ./final_datasets/sample-efficiency/exp_setting_1/experiment_4/dataset_metadata.json\n",
      "Created path experiment:  ./final_datasets/sample-efficiency/exp_setting_1/experiment_5\n",
      "Task 2bcee788 has 102000 samples\n",
      "New dataset created at: ./final_datasets/sample-efficiency/exp_setting_1/experiment_5/train.json\n",
      "New dataset created at: ./final_datasets/sample-efficiency/exp_setting_1/experiment_5/val.json\n",
      "New dataset created at: ./final_datasets/sample-efficiency/exp_setting_1/experiment_5/test.json\n",
      "Metadata about the created experiment dataset saved at: ./final_datasets/sample-efficiency/exp_setting_1/experiment_5/dataset_metadata.json\n",
      "Created path experiment:  ./final_datasets/sample-efficiency/exp_setting_1/experiment_6\n",
      "Task 2bcee788 has 102000 samples\n",
      "New dataset created at: ./final_datasets/sample-efficiency/exp_setting_1/experiment_6/train.json\n",
      "New dataset created at: ./final_datasets/sample-efficiency/exp_setting_1/experiment_6/val.json\n",
      "New dataset created at: ./final_datasets/sample-efficiency/exp_setting_1/experiment_6/test.json\n",
      "Metadata about the created experiment dataset saved at: ./final_datasets/sample-efficiency/exp_setting_1/experiment_6/dataset_metadata.json\n",
      "Created path experiment:  ./final_datasets/sample-efficiency/exp_setting_1/experiment_7\n",
      "Task 2bcee788 has 102000 samples\n",
      "New dataset created at: ./final_datasets/sample-efficiency/exp_setting_1/experiment_7/train.json\n",
      "New dataset created at: ./final_datasets/sample-efficiency/exp_setting_1/experiment_7/val.json\n",
      "New dataset created at: ./final_datasets/sample-efficiency/exp_setting_1/experiment_7/test.json\n",
      "Metadata about the created experiment dataset saved at: ./final_datasets/sample-efficiency/exp_setting_1/experiment_7/dataset_metadata.json\n",
      "Created path experiment:  ./final_datasets/sample-efficiency/exp_setting_1/experiment_8\n",
      "Task 2bcee788 has 102000 samples\n",
      "New dataset created at: ./final_datasets/sample-efficiency/exp_setting_1/experiment_8/train.json\n",
      "New dataset created at: ./final_datasets/sample-efficiency/exp_setting_1/experiment_8/val.json\n",
      "New dataset created at: ./final_datasets/sample-efficiency/exp_setting_1/experiment_8/test.json\n",
      "Metadata about the created experiment dataset saved at: ./final_datasets/sample-efficiency/exp_setting_1/experiment_8/dataset_metadata.json\n",
      "Created path experiment:  ./final_datasets/sample-efficiency/exp_setting_1/experiment_9\n",
      "Task f15e1fac has 102000 samples\n",
      "New dataset created at: ./final_datasets/sample-efficiency/exp_setting_1/experiment_9/train.json\n",
      "New dataset created at: ./final_datasets/sample-efficiency/exp_setting_1/experiment_9/val.json\n",
      "New dataset created at: ./final_datasets/sample-efficiency/exp_setting_1/experiment_9/test.json\n",
      "Metadata about the created experiment dataset saved at: ./final_datasets/sample-efficiency/exp_setting_1/experiment_9/dataset_metadata.json\n",
      "Created path experiment:  ./final_datasets/sample-efficiency/exp_setting_1/experiment_10\n",
      "Task f15e1fac has 102000 samples\n",
      "New dataset created at: ./final_datasets/sample-efficiency/exp_setting_1/experiment_10/train.json\n",
      "New dataset created at: ./final_datasets/sample-efficiency/exp_setting_1/experiment_10/val.json\n",
      "New dataset created at: ./final_datasets/sample-efficiency/exp_setting_1/experiment_10/test.json\n",
      "Metadata about the created experiment dataset saved at: ./final_datasets/sample-efficiency/exp_setting_1/experiment_10/dataset_metadata.json\n",
      "Created path experiment:  ./final_datasets/sample-efficiency/exp_setting_1/experiment_11\n",
      "Task f15e1fac has 102000 samples\n",
      "New dataset created at: ./final_datasets/sample-efficiency/exp_setting_1/experiment_11/train.json\n",
      "New dataset created at: ./final_datasets/sample-efficiency/exp_setting_1/experiment_11/val.json\n",
      "New dataset created at: ./final_datasets/sample-efficiency/exp_setting_1/experiment_11/test.json\n",
      "Metadata about the created experiment dataset saved at: ./final_datasets/sample-efficiency/exp_setting_1/experiment_11/dataset_metadata.json\n",
      "Created path experiment:  ./final_datasets/sample-efficiency/exp_setting_1/experiment_12\n",
      "Task f15e1fac has 102000 samples\n",
      "New dataset created at: ./final_datasets/sample-efficiency/exp_setting_1/experiment_12/train.json\n",
      "New dataset created at: ./final_datasets/sample-efficiency/exp_setting_1/experiment_12/val.json\n",
      "New dataset created at: ./final_datasets/sample-efficiency/exp_setting_1/experiment_12/test.json\n",
      "Metadata about the created experiment dataset saved at: ./final_datasets/sample-efficiency/exp_setting_1/experiment_12/dataset_metadata.json\n",
      "Created path experiment:  ./final_datasets/sample-efficiency/exp_setting_1/experiment_13\n",
      "Task 6d0160f0 has 102000 samples\n",
      "New dataset created at: ./final_datasets/sample-efficiency/exp_setting_1/experiment_13/train.json\n",
      "New dataset created at: ./final_datasets/sample-efficiency/exp_setting_1/experiment_13/val.json\n",
      "New dataset created at: ./final_datasets/sample-efficiency/exp_setting_1/experiment_13/test.json\n",
      "Metadata about the created experiment dataset saved at: ./final_datasets/sample-efficiency/exp_setting_1/experiment_13/dataset_metadata.json\n",
      "Created path experiment:  ./final_datasets/sample-efficiency/exp_setting_1/experiment_14\n",
      "Task 6d0160f0 has 102000 samples\n",
      "New dataset created at: ./final_datasets/sample-efficiency/exp_setting_1/experiment_14/train.json\n",
      "New dataset created at: ./final_datasets/sample-efficiency/exp_setting_1/experiment_14/val.json\n",
      "New dataset created at: ./final_datasets/sample-efficiency/exp_setting_1/experiment_14/test.json\n",
      "Metadata about the created experiment dataset saved at: ./final_datasets/sample-efficiency/exp_setting_1/experiment_14/dataset_metadata.json\n",
      "Created path experiment:  ./final_datasets/sample-efficiency/exp_setting_1/experiment_15\n",
      "Task 6d0160f0 has 102000 samples\n",
      "New dataset created at: ./final_datasets/sample-efficiency/exp_setting_1/experiment_15/train.json\n",
      "New dataset created at: ./final_datasets/sample-efficiency/exp_setting_1/experiment_15/val.json\n",
      "New dataset created at: ./final_datasets/sample-efficiency/exp_setting_1/experiment_15/test.json\n",
      "Metadata about the created experiment dataset saved at: ./final_datasets/sample-efficiency/exp_setting_1/experiment_15/dataset_metadata.json\n",
      "Created path experiment:  ./final_datasets/sample-efficiency/exp_setting_1/experiment_16\n",
      "Task 6d0160f0 has 102000 samples\n",
      "New dataset created at: ./final_datasets/sample-efficiency/exp_setting_1/experiment_16/train.json\n",
      "New dataset created at: ./final_datasets/sample-efficiency/exp_setting_1/experiment_16/val.json\n",
      "New dataset created at: ./final_datasets/sample-efficiency/exp_setting_1/experiment_16/test.json\n",
      "Metadata about the created experiment dataset saved at: ./final_datasets/sample-efficiency/exp_setting_1/experiment_16/dataset_metadata.json\n",
      "Created path experiment:  ./final_datasets/sample-efficiency/exp_setting_1/experiment_17\n",
      "Task e9afcf9a has 102000 samples\n",
      "New dataset created at: ./final_datasets/sample-efficiency/exp_setting_1/experiment_17/train.json\n",
      "New dataset created at: ./final_datasets/sample-efficiency/exp_setting_1/experiment_17/val.json\n",
      "New dataset created at: ./final_datasets/sample-efficiency/exp_setting_1/experiment_17/test.json\n",
      "Metadata about the created experiment dataset saved at: ./final_datasets/sample-efficiency/exp_setting_1/experiment_17/dataset_metadata.json\n",
      "Created path experiment:  ./final_datasets/sample-efficiency/exp_setting_1/experiment_18\n",
      "Task e9afcf9a has 102000 samples\n",
      "New dataset created at: ./final_datasets/sample-efficiency/exp_setting_1/experiment_18/train.json\n",
      "New dataset created at: ./final_datasets/sample-efficiency/exp_setting_1/experiment_18/val.json\n",
      "New dataset created at: ./final_datasets/sample-efficiency/exp_setting_1/experiment_18/test.json\n",
      "Metadata about the created experiment dataset saved at: ./final_datasets/sample-efficiency/exp_setting_1/experiment_18/dataset_metadata.json\n",
      "Created path experiment:  ./final_datasets/sample-efficiency/exp_setting_1/experiment_19\n",
      "Task e9afcf9a has 102000 samples\n",
      "New dataset created at: ./final_datasets/sample-efficiency/exp_setting_1/experiment_19/train.json\n",
      "New dataset created at: ./final_datasets/sample-efficiency/exp_setting_1/experiment_19/val.json\n",
      "New dataset created at: ./final_datasets/sample-efficiency/exp_setting_1/experiment_19/test.json\n",
      "Metadata about the created experiment dataset saved at: ./final_datasets/sample-efficiency/exp_setting_1/experiment_19/dataset_metadata.json\n",
      "Created path experiment:  ./final_datasets/sample-efficiency/exp_setting_1/experiment_20\n",
      "Task e9afcf9a has 102000 samples\n",
      "New dataset created at: ./final_datasets/sample-efficiency/exp_setting_1/experiment_20/train.json\n",
      "New dataset created at: ./final_datasets/sample-efficiency/exp_setting_1/experiment_20/val.json\n",
      "New dataset created at: ./final_datasets/sample-efficiency/exp_setting_1/experiment_20/test.json\n",
      "Metadata about the created experiment dataset saved at: ./final_datasets/sample-efficiency/exp_setting_1/experiment_20/dataset_metadata.json\n",
      "Created path experiment:  ./final_datasets/sample-efficiency/exp_setting_1/experiment_21\n",
      "Task d9f24cd1 has 102000 samples\n",
      "New dataset created at: ./final_datasets/sample-efficiency/exp_setting_1/experiment_21/train.json\n",
      "New dataset created at: ./final_datasets/sample-efficiency/exp_setting_1/experiment_21/val.json\n",
      "New dataset created at: ./final_datasets/sample-efficiency/exp_setting_1/experiment_21/test.json\n",
      "Metadata about the created experiment dataset saved at: ./final_datasets/sample-efficiency/exp_setting_1/experiment_21/dataset_metadata.json\n",
      "Created path experiment:  ./final_datasets/sample-efficiency/exp_setting_1/experiment_22\n",
      "Task d9f24cd1 has 102000 samples\n",
      "New dataset created at: ./final_datasets/sample-efficiency/exp_setting_1/experiment_22/train.json\n",
      "New dataset created at: ./final_datasets/sample-efficiency/exp_setting_1/experiment_22/val.json\n",
      "New dataset created at: ./final_datasets/sample-efficiency/exp_setting_1/experiment_22/test.json\n",
      "Metadata about the created experiment dataset saved at: ./final_datasets/sample-efficiency/exp_setting_1/experiment_22/dataset_metadata.json\n",
      "Created path experiment:  ./final_datasets/sample-efficiency/exp_setting_1/experiment_23\n",
      "Task d9f24cd1 has 102000 samples\n",
      "New dataset created at: ./final_datasets/sample-efficiency/exp_setting_1/experiment_23/train.json\n",
      "New dataset created at: ./final_datasets/sample-efficiency/exp_setting_1/experiment_23/val.json\n",
      "New dataset created at: ./final_datasets/sample-efficiency/exp_setting_1/experiment_23/test.json\n",
      "Metadata about the created experiment dataset saved at: ./final_datasets/sample-efficiency/exp_setting_1/experiment_23/dataset_metadata.json\n",
      "Created path experiment:  ./final_datasets/sample-efficiency/exp_setting_1/experiment_24\n",
      "Task d9f24cd1 has 102000 samples\n",
      "New dataset created at: ./final_datasets/sample-efficiency/exp_setting_1/experiment_24/train.json\n",
      "New dataset created at: ./final_datasets/sample-efficiency/exp_setting_1/experiment_24/val.json\n",
      "New dataset created at: ./final_datasets/sample-efficiency/exp_setting_1/experiment_24/test.json\n",
      "Metadata about the created experiment dataset saved at: ./final_datasets/sample-efficiency/exp_setting_1/experiment_24/dataset_metadata.json\n",
      "Created path experiment:  ./final_datasets/sample-efficiency/exp_setting_1/experiment_25\n",
      "Task 4be741c5 has 102000 samples\n",
      "New dataset created at: ./final_datasets/sample-efficiency/exp_setting_1/experiment_25/train.json\n",
      "New dataset created at: ./final_datasets/sample-efficiency/exp_setting_1/experiment_25/val.json\n",
      "New dataset created at: ./final_datasets/sample-efficiency/exp_setting_1/experiment_25/test.json\n",
      "Metadata about the created experiment dataset saved at: ./final_datasets/sample-efficiency/exp_setting_1/experiment_25/dataset_metadata.json\n",
      "Created path experiment:  ./final_datasets/sample-efficiency/exp_setting_1/experiment_26\n",
      "Task 4be741c5 has 102000 samples\n",
      "New dataset created at: ./final_datasets/sample-efficiency/exp_setting_1/experiment_26/train.json\n",
      "New dataset created at: ./final_datasets/sample-efficiency/exp_setting_1/experiment_26/val.json\n",
      "New dataset created at: ./final_datasets/sample-efficiency/exp_setting_1/experiment_26/test.json\n",
      "Metadata about the created experiment dataset saved at: ./final_datasets/sample-efficiency/exp_setting_1/experiment_26/dataset_metadata.json\n",
      "Created path experiment:  ./final_datasets/sample-efficiency/exp_setting_1/experiment_27\n",
      "Task 4be741c5 has 102000 samples\n",
      "New dataset created at: ./final_datasets/sample-efficiency/exp_setting_1/experiment_27/train.json\n",
      "New dataset created at: ./final_datasets/sample-efficiency/exp_setting_1/experiment_27/val.json\n",
      "New dataset created at: ./final_datasets/sample-efficiency/exp_setting_1/experiment_27/test.json\n",
      "Metadata about the created experiment dataset saved at: ./final_datasets/sample-efficiency/exp_setting_1/experiment_27/dataset_metadata.json\n",
      "Created path experiment:  ./final_datasets/sample-efficiency/exp_setting_1/experiment_28\n",
      "Task 4be741c5 has 102000 samples\n",
      "New dataset created at: ./final_datasets/sample-efficiency/exp_setting_1/experiment_28/train.json\n",
      "New dataset created at: ./final_datasets/sample-efficiency/exp_setting_1/experiment_28/val.json\n",
      "New dataset created at: ./final_datasets/sample-efficiency/exp_setting_1/experiment_28/test.json\n",
      "Metadata about the created experiment dataset saved at: ./final_datasets/sample-efficiency/exp_setting_1/experiment_28/dataset_metadata.json\n",
      "Created path experiment:  ./final_datasets/sample-efficiency/exp_setting_1/experiment_29\n",
      "Task 5521c0d9 has 102000 samples\n",
      "New dataset created at: ./final_datasets/sample-efficiency/exp_setting_1/experiment_29/train.json\n",
      "New dataset created at: ./final_datasets/sample-efficiency/exp_setting_1/experiment_29/val.json\n",
      "New dataset created at: ./final_datasets/sample-efficiency/exp_setting_1/experiment_29/test.json\n",
      "Metadata about the created experiment dataset saved at: ./final_datasets/sample-efficiency/exp_setting_1/experiment_29/dataset_metadata.json\n",
      "Created path experiment:  ./final_datasets/sample-efficiency/exp_setting_1/experiment_30\n",
      "Task 5521c0d9 has 102000 samples\n",
      "New dataset created at: ./final_datasets/sample-efficiency/exp_setting_1/experiment_30/train.json\n",
      "New dataset created at: ./final_datasets/sample-efficiency/exp_setting_1/experiment_30/val.json\n",
      "New dataset created at: ./final_datasets/sample-efficiency/exp_setting_1/experiment_30/test.json\n",
      "Metadata about the created experiment dataset saved at: ./final_datasets/sample-efficiency/exp_setting_1/experiment_30/dataset_metadata.json\n",
      "Created path experiment:  ./final_datasets/sample-efficiency/exp_setting_1/experiment_31\n",
      "Task 5521c0d9 has 102000 samples\n",
      "New dataset created at: ./final_datasets/sample-efficiency/exp_setting_1/experiment_31/train.json\n",
      "New dataset created at: ./final_datasets/sample-efficiency/exp_setting_1/experiment_31/val.json\n",
      "New dataset created at: ./final_datasets/sample-efficiency/exp_setting_1/experiment_31/test.json\n",
      "Metadata about the created experiment dataset saved at: ./final_datasets/sample-efficiency/exp_setting_1/experiment_31/dataset_metadata.json\n",
      "Created path experiment:  ./final_datasets/sample-efficiency/exp_setting_1/experiment_32\n",
      "Task 5521c0d9 has 102000 samples\n",
      "New dataset created at: ./final_datasets/sample-efficiency/exp_setting_1/experiment_32/train.json\n",
      "New dataset created at: ./final_datasets/sample-efficiency/exp_setting_1/experiment_32/val.json\n",
      "New dataset created at: ./final_datasets/sample-efficiency/exp_setting_1/experiment_32/test.json\n",
      "Metadata about the created experiment dataset saved at: ./final_datasets/sample-efficiency/exp_setting_1/experiment_32/dataset_metadata.json\n",
      "Created path experiment:  ./final_datasets/sample-efficiency/exp_setting_1/experiment_33\n",
      "Task f8b3ba0a has 102000 samples\n",
      "New dataset created at: ./final_datasets/sample-efficiency/exp_setting_1/experiment_33/train.json\n",
      "New dataset created at: ./final_datasets/sample-efficiency/exp_setting_1/experiment_33/val.json\n",
      "New dataset created at: ./final_datasets/sample-efficiency/exp_setting_1/experiment_33/test.json\n",
      "Metadata about the created experiment dataset saved at: ./final_datasets/sample-efficiency/exp_setting_1/experiment_33/dataset_metadata.json\n",
      "Created path experiment:  ./final_datasets/sample-efficiency/exp_setting_1/experiment_34\n",
      "Task f8b3ba0a has 102000 samples\n",
      "New dataset created at: ./final_datasets/sample-efficiency/exp_setting_1/experiment_34/train.json\n",
      "New dataset created at: ./final_datasets/sample-efficiency/exp_setting_1/experiment_34/val.json\n",
      "New dataset created at: ./final_datasets/sample-efficiency/exp_setting_1/experiment_34/test.json\n",
      "Metadata about the created experiment dataset saved at: ./final_datasets/sample-efficiency/exp_setting_1/experiment_34/dataset_metadata.json\n",
      "Created path experiment:  ./final_datasets/sample-efficiency/exp_setting_1/experiment_35\n",
      "Task f8b3ba0a has 102000 samples\n",
      "New dataset created at: ./final_datasets/sample-efficiency/exp_setting_1/experiment_35/train.json\n",
      "New dataset created at: ./final_datasets/sample-efficiency/exp_setting_1/experiment_35/val.json\n",
      "New dataset created at: ./final_datasets/sample-efficiency/exp_setting_1/experiment_35/test.json\n",
      "Metadata about the created experiment dataset saved at: ./final_datasets/sample-efficiency/exp_setting_1/experiment_35/dataset_metadata.json\n",
      "Created path experiment:  ./final_datasets/sample-efficiency/exp_setting_1/experiment_36\n",
      "Task f8b3ba0a has 102000 samples\n",
      "New dataset created at: ./final_datasets/sample-efficiency/exp_setting_1/experiment_36/train.json\n",
      "New dataset created at: ./final_datasets/sample-efficiency/exp_setting_1/experiment_36/val.json\n",
      "New dataset created at: ./final_datasets/sample-efficiency/exp_setting_1/experiment_36/test.json\n",
      "Metadata about the created experiment dataset saved at: ./final_datasets/sample-efficiency/exp_setting_1/experiment_36/dataset_metadata.json\n",
      "Created path experiment:  ./final_datasets/sample-efficiency/exp_setting_1/experiment_37\n",
      "Task d406998b has 102000 samples\n",
      "New dataset created at: ./final_datasets/sample-efficiency/exp_setting_1/experiment_37/train.json\n",
      "New dataset created at: ./final_datasets/sample-efficiency/exp_setting_1/experiment_37/val.json\n",
      "New dataset created at: ./final_datasets/sample-efficiency/exp_setting_1/experiment_37/test.json\n",
      "Metadata about the created experiment dataset saved at: ./final_datasets/sample-efficiency/exp_setting_1/experiment_37/dataset_metadata.json\n",
      "Created path experiment:  ./final_datasets/sample-efficiency/exp_setting_1/experiment_38\n",
      "Task d406998b has 102000 samples\n",
      "New dataset created at: ./final_datasets/sample-efficiency/exp_setting_1/experiment_38/train.json\n",
      "New dataset created at: ./final_datasets/sample-efficiency/exp_setting_1/experiment_38/val.json\n",
      "New dataset created at: ./final_datasets/sample-efficiency/exp_setting_1/experiment_38/test.json\n",
      "Metadata about the created experiment dataset saved at: ./final_datasets/sample-efficiency/exp_setting_1/experiment_38/dataset_metadata.json\n",
      "Created path experiment:  ./final_datasets/sample-efficiency/exp_setting_1/experiment_39\n",
      "Task d406998b has 102000 samples\n",
      "New dataset created at: ./final_datasets/sample-efficiency/exp_setting_1/experiment_39/train.json\n",
      "New dataset created at: ./final_datasets/sample-efficiency/exp_setting_1/experiment_39/val.json\n",
      "New dataset created at: ./final_datasets/sample-efficiency/exp_setting_1/experiment_39/test.json\n",
      "Metadata about the created experiment dataset saved at: ./final_datasets/sample-efficiency/exp_setting_1/experiment_39/dataset_metadata.json\n",
      "Created path experiment:  ./final_datasets/sample-efficiency/exp_setting_1/experiment_40\n",
      "Task d406998b has 102000 samples\n",
      "New dataset created at: ./final_datasets/sample-efficiency/exp_setting_1/experiment_40/train.json\n",
      "New dataset created at: ./final_datasets/sample-efficiency/exp_setting_1/experiment_40/val.json\n",
      "New dataset created at: ./final_datasets/sample-efficiency/exp_setting_1/experiment_40/test.json\n",
      "Metadata about the created experiment dataset saved at: ./final_datasets/sample-efficiency/exp_setting_1/experiment_40/dataset_metadata.json\n"
     ]
    }
   ],
   "source": [
    "# ** Experiment setting 1: Best Performance for Varying Number N of Samples **\n",
    "\n",
    "exp_setting_desc = \"\"\"Experiment setting 1: Best Performance for Varying Number N of Samples\"\"\"\n",
    "\n",
    "# We consider 10 tasks sampled randomly from the 400 tasks\n",
    "# We consider samples closer to representing an \"elementary\" task by choosing the level of difficulty in [0, 1]\n",
    "# We create train datasets of size N_train = 100, 1000, 10000, 100000\n",
    "# We create val datasets of size N_val = 1000\n",
    "# We create test datasets of size N_test = 1000\n",
    "\n",
    "splits = ['train', 'val', 'test']\n",
    "experiment_setting_base = {'index': \"1\", 'splits': splits}\n",
    "\n",
    "nb_tasks = 10\n",
    "# diff_level = \"lb0_ub04\"\n",
    "diff_level = \"lb0_ub1\"\n",
    "\n",
    "chosen_tasks_folder = './tasks_generated.txt'\n",
    "with open(chosen_tasks_folder, 'r') as f:\n",
    "    tasks = f.read().splitlines()\n",
    "\n",
    "train_sizes = [100, 1000, 10000, 100000]\n",
    "val_sizes = [1000] * len(train_sizes)\n",
    "test_sizes = [1000] * len(train_sizes)\n",
    "\n",
    "experiment_setting = {**experiment_setting_base, \n",
    "                      'tasks': tasks,\n",
    "                      'diff_level': diff_level,\n",
    "                      'train_sizes': train_sizes, \n",
    "                      'val_sizes': val_sizes, \n",
    "                      'test_sizes': test_sizes,\n",
    "                      'desc': exp_setting_desc\n",
    "                      }\n",
    "\n",
    "create_dataset(sample_efficiency_dir, study, experiment_setting)\n"
   ]
  },
  {
   "cell_type": "code",
   "execution_count": 27,
   "metadata": {},
   "outputs": [
    {
     "name": "stdout",
     "output_type": "stream",
     "text": [
      "Input batch shape:  torch.Size([4, 30, 30])\n",
      "Output batch shape:  torch.Size([4, 30, 30])\n"
     ]
    },
    {
     "name": "stderr",
     "output_type": "stream",
     "text": [
      "/tmp/ipykernel_3466604/2204237555.py:2: UserWarning: To copy construct from a tensor, it is recommended to use sourceTensor.clone().detach() or sourceTensor.clone().detach().requires_grad_(True), rather than torch.tensor(sourceTensor).\n",
      "  inputs = [torch.tensor(sample[0], dtype=torch.long) for sample in batch]\n",
      "/tmp/ipykernel_3466604/2204237555.py:3: UserWarning: To copy construct from a tensor, it is recommended to use sourceTensor.clone().detach() or sourceTensor.clone().detach().requires_grad_(True), rather than torch.tensor(sourceTensor).\n",
      "  outputs = [torch.tensor(sample[1], dtype=torch.long) for sample in batch]\n"
     ]
    },
    {
     "data": {
      "image/png": "[encoded data removed]",
      "text/plain": [
       "<Figure size 600x300 with 2 Axes>"
      ]
     },
     "metadata": {},
     "output_type": "display_data"
    }
   ],
   "source": [
    "dataset_train_path = \"./final_datasets/sample-efficiency/exp_setting_1/experiment_1/test.json\"\n",
    "dataloader = check_REARC_dataloader(dataset_train_path, use_dataloader_padding=True)"
   ]
  },
  {
   "cell_type": "code",
   "execution_count": 28,
   "metadata": {},
   "outputs": [
    {
     "name": "stderr",
     "output_type": "stream",
     "text": [
      "/tmp/ipykernel_3466604/2204237555.py:2: UserWarning: To copy construct from a tensor, it is recommended to use sourceTensor.clone().detach() or sourceTensor.clone().detach().requires_grad_(True), rather than torch.tensor(sourceTensor).\n",
      "  inputs = [torch.tensor(sample[0], dtype=torch.long) for sample in batch]\n",
      "/tmp/ipykernel_3466604/2204237555.py:3: UserWarning: To copy construct from a tensor, it is recommended to use sourceTensor.clone().detach() or sourceTensor.clone().detach().requires_grad_(True), rather than torch.tensor(sourceTensor).\n",
      "  outputs = [torch.tensor(sample[1], dtype=torch.long) for sample in batch]\n"
     ]
    },
    {
     "name": "stdout",
     "output_type": "stream",
     "text": [
      "Observing 4 samples from the batch 0 at test time. See /figs folder.\n",
      "inputs shape: torch.Size([4, 30, 30]), outputs shape: torch.Size([4, 30, 30])\n",
      "inputs dtype: torch.int64, outputs dtype: torch.int64\n",
      "inputs min: 0, outputs min: 0\n",
      "inputs max: 9, outputs max: 9\n",
      "inputs: tensor([[[3, 3, 8,  ..., 0, 0, 0],\n",
      "         [1, 1, 1,  ..., 0, 0, 0],\n",
      "         [3, 3, 3,  ..., 0, 0, 0],\n",
      "         ...,\n",
      "         [0, 0, 0,  ..., 0, 0, 0],\n",
      "         [0, 0, 0,  ..., 0, 0, 0],\n",
      "         [0, 0, 0,  ..., 0, 0, 0]],\n",
      "\n",
      "        [[4, 4, 8,  ..., 0, 0, 0],\n",
      "         [8, 8, 8,  ..., 0, 0, 0],\n",
      "         [8, 8, 8,  ..., 0, 0, 0],\n",
      "         ...,\n",
      "         [0, 0, 0,  ..., 0, 0, 0],\n",
      "         [0, 0, 0,  ..., 0, 0, 0],\n",
      "         [0, 0, 0,  ..., 0, 0, 0]],\n",
      "\n",
      "        [[7, 8, 7,  ..., 0, 0, 0],\n",
      "         [8, 8, 8,  ..., 0, 0, 0],\n",
      "         [8, 8, 7,  ..., 0, 0, 0],\n",
      "         ...,\n",
      "         [0, 0, 0,  ..., 0, 0, 0],\n",
      "         [0, 0, 0,  ..., 0, 0, 0],\n",
      "         [0, 0, 0,  ..., 0, 0, 0]],\n",
      "\n",
      "        [[0, 9, 9,  ..., 0, 0, 0],\n",
      "         [0, 0, 9,  ..., 0, 0, 0],\n",
      "         [0, 9, 9,  ..., 0, 0, 0],\n",
      "         ...,\n",
      "         [0, 0, 0,  ..., 0, 0, 0],\n",
      "         [0, 0, 0,  ..., 0, 0, 0],\n",
      "         [0, 0, 0,  ..., 0, 0, 0]]])\n",
      "outputs: tensor([[[9, 1, 1,  ..., 0, 0, 0],\n",
      "         [9, 3, 8,  ..., 0, 0, 0],\n",
      "         [9, 3, 3,  ..., 0, 0, 0],\n",
      "         ...,\n",
      "         [0, 0, 0,  ..., 0, 0, 0],\n",
      "         [0, 0, 0,  ..., 0, 0, 0],\n",
      "         [0, 0, 0,  ..., 0, 0, 0]],\n",
      "\n",
      "        [[1, 4, 4,  ..., 0, 0, 0],\n",
      "         [1, 4, 4,  ..., 0, 0, 0],\n",
      "         [1, 8, 4,  ..., 0, 0, 0],\n",
      "         ...,\n",
      "         [0, 0, 0,  ..., 0, 0, 0],\n",
      "         [0, 0, 0,  ..., 0, 0, 0],\n",
      "         [0, 0, 0,  ..., 0, 0, 0]],\n",
      "\n",
      "        [[1, 1, 1,  ..., 0, 0, 0],\n",
      "         [5, 8, 8,  ..., 0, 0, 0],\n",
      "         [5, 8, 8,  ..., 0, 0, 0],\n",
      "         ...,\n",
      "         [0, 0, 0,  ..., 0, 0, 0],\n",
      "         [0, 0, 0,  ..., 0, 0, 0],\n",
      "         [0, 0, 0,  ..., 0, 0, 0]],\n",
      "\n",
      "        [[9, 8, 8,  ..., 0, 0, 0],\n",
      "         [9, 0, 2,  ..., 0, 0, 0],\n",
      "         [9, 0, 2,  ..., 0, 0, 0],\n",
      "         ...,\n",
      "         [0, 0, 0,  ..., 0, 0, 0],\n",
      "         [0, 0, 0,  ..., 0, 0, 0],\n",
      "         [0, 0, 0,  ..., 0, 0, 0]]])\n"
     ]
    },
    {
     "data": {
      "image/png": "[encoded data removed]",
      "text/plain": [
       "<Figure size 2000x1200 with 8 Axes>"
      ]
     },
     "metadata": {},
     "output_type": "display_data"
    }
   ],
   "source": [
    "observe_input_output_images(dataloader, batch_id=0, n_samples=4, split=\"test\")"
   ]
  },
  {
   "cell_type": "code",
   "execution_count": 29,
   "metadata": {},
   "outputs": [
    {
     "name": "stdout",
     "output_type": "stream",
     "text": [
      "Input batch shape:  torch.Size([4, 30, 30])\n",
      "Output batch shape:  torch.Size([4, 30, 30])\n"
     ]
    },
    {
     "name": "stderr",
     "output_type": "stream",
     "text": [
      "/tmp/ipykernel_3466604/2204237555.py:2: UserWarning: To copy construct from a tensor, it is recommended to use sourceTensor.clone().detach() or sourceTensor.clone().detach().requires_grad_(True), rather than torch.tensor(sourceTensor).\n",
      "  inputs = [torch.tensor(sample[0], dtype=torch.long) for sample in batch]\n",
      "/tmp/ipykernel_3466604/2204237555.py:3: UserWarning: To copy construct from a tensor, it is recommended to use sourceTensor.clone().detach() or sourceTensor.clone().detach().requires_grad_(True), rather than torch.tensor(sourceTensor).\n",
      "  outputs = [torch.tensor(sample[1], dtype=torch.long) for sample in batch]\n"
     ]
    },
    {
     "data": {
      "image/png": "[encoded data removed]",
      "text/plain": [
       "<Figure size 600x300 with 2 Axes>"
      ]
     },
     "metadata": {},
     "output_type": "display_data"
    },
    {
     "data": {
      "text/plain": [
       "<torch.utils.data.dataloader.DataLoader at 0x7f45afce7980>"
      ]
     },
     "execution_count": 29,
     "metadata": {},
     "output_type": "execute_result"
    }
   ],
   "source": [
    "dataset_train_path = \"./final_datasets/sample-efficiency/exp_setting_1/experiment_2/train.json\"\n",
    "check_REARC_dataloader(dataset_train_path, use_dataloader_padding=True)"
   ]
  },
  {
   "cell_type": "code",
   "execution_count": 30,
   "metadata": {},
   "outputs": [
    {
     "name": "stderr",
     "output_type": "stream",
     "text": [
      "/tmp/ipykernel_3466604/2204237555.py:2: UserWarning: To copy construct from a tensor, it is recommended to use sourceTensor.clone().detach() or sourceTensor.clone().detach().requires_grad_(True), rather than torch.tensor(sourceTensor).\n",
      "  inputs = [torch.tensor(sample[0], dtype=torch.long) for sample in batch]\n",
      "/tmp/ipykernel_3466604/2204237555.py:3: UserWarning: To copy construct from a tensor, it is recommended to use sourceTensor.clone().detach() or sourceTensor.clone().detach().requires_grad_(True), rather than torch.tensor(sourceTensor).\n",
      "  outputs = [torch.tensor(sample[1], dtype=torch.long) for sample in batch]\n"
     ]
    },
    {
     "name": "stdout",
     "output_type": "stream",
     "text": [
      "Input batch shape:  torch.Size([4, 30, 30])\n",
      "Output batch shape:  torch.Size([4, 30, 30])\n"
     ]
    },
    {
     "data": {
      "image/png": "[encoded data removed]",
      "text/plain": [
       "<Figure size 600x300 with 2 Axes>"
      ]
     },
     "metadata": {},
     "output_type": "display_data"
    },
    {
     "data": {
      "text/plain": [
       "<torch.utils.data.dataloader.DataLoader at 0x7f45a8fb7b60>"
      ]
     },
     "execution_count": 30,
     "metadata": {},
     "output_type": "execute_result"
    }
   ],
   "source": [
    "dataset_test_path = \"./final_datasets/sample-efficiency/exp_setting_1/experiment_2/test.json\"\n",
    "check_REARC_dataloader(dataset_test_path, use_dataloader_padding=True)"
   ]
  },
  {
   "cell_type": "markdown",
   "metadata": {},
   "source": [
    "### Systematic Generalization"
   ]
  },
  {
   "cell_type": "code",
   "execution_count": 31,
   "metadata": {},
   "outputs": [
    {
     "data": {
      "text/plain": [
       "<torch._C.Generator at 0x7f45e8a9ca50>"
      ]
     },
     "execution_count": 31,
     "metadata": {},
     "output_type": "execute_result"
    }
   ],
   "source": [
    "random.seed(1997)\n",
    "torch.manual_seed(1997)"
   ]
  },
  {
   "cell_type": "code",
   "execution_count": 32,
   "metadata": {},
   "outputs": [],
   "source": [
    "study = \"sys-gen\""
   ]
  },
  {
   "cell_type": "code",
   "execution_count": 33,
   "metadata": {},
   "outputs": [
    {
     "name": "stdout",
     "output_type": "stream",
     "text": [
      "Created path experiment setting:  ./final_datasets/sys-gen/exp_setting_1\n",
      "Created path experiment:  ./final_datasets/sys-gen/exp_setting_1/experiment_1\n",
      "Task 5daaa586 has 102000 train samples\n",
      "Task 5daaa586 has 102000 OOD generalization samples\n",
      "New dataset created at: ./final_datasets/sys-gen/exp_setting_1/experiment_1/train.json\n",
      "New dataset created at: ./final_datasets/sys-gen/exp_setting_1/experiment_1/val.json\n",
      "New dataset created at: ./final_datasets/sys-gen/exp_setting_1/experiment_1/test.json\n",
      "New dataset created at: ./final_datasets/sys-gen/exp_setting_1/experiment_1/gen_test.json\n",
      "Metadata about the created experiment dataset saved at: ./final_datasets/sys-gen/exp_setting_1/experiment_1/dataset_metadata.json\n",
      "Created path experiment:  ./final_datasets/sys-gen/exp_setting_1/experiment_2\n",
      "Task 2bcee788 has 102000 train samples\n",
      "Task 2bcee788 has 102000 OOD generalization samples\n",
      "New dataset created at: ./final_datasets/sys-gen/exp_setting_1/experiment_2/train.json\n",
      "New dataset created at: ./final_datasets/sys-gen/exp_setting_1/experiment_2/val.json\n",
      "New dataset created at: ./final_datasets/sys-gen/exp_setting_1/experiment_2/test.json\n",
      "New dataset created at: ./final_datasets/sys-gen/exp_setting_1/experiment_2/gen_test.json\n",
      "Metadata about the created experiment dataset saved at: ./final_datasets/sys-gen/exp_setting_1/experiment_2/dataset_metadata.json\n",
      "Created path experiment:  ./final_datasets/sys-gen/exp_setting_1/experiment_3\n",
      "Task f15e1fac has 102000 train samples\n",
      "Task f15e1fac has 102000 OOD generalization samples\n",
      "New dataset created at: ./final_datasets/sys-gen/exp_setting_1/experiment_3/train.json\n",
      "New dataset created at: ./final_datasets/sys-gen/exp_setting_1/experiment_3/val.json\n",
      "New dataset created at: ./final_datasets/sys-gen/exp_setting_1/experiment_3/test.json\n",
      "New dataset created at: ./final_datasets/sys-gen/exp_setting_1/experiment_3/gen_test.json\n",
      "Metadata about the created experiment dataset saved at: ./final_datasets/sys-gen/exp_setting_1/experiment_3/dataset_metadata.json\n",
      "Created path experiment:  ./final_datasets/sys-gen/exp_setting_1/experiment_4\n",
      "Task 6d0160f0 has 102000 train samples\n",
      "Task 6d0160f0 has 102000 OOD generalization samples\n",
      "New dataset created at: ./final_datasets/sys-gen/exp_setting_1/experiment_4/train.json\n",
      "New dataset created at: ./final_datasets/sys-gen/exp_setting_1/experiment_4/val.json\n",
      "New dataset created at: ./final_datasets/sys-gen/exp_setting_1/experiment_4/test.json\n",
      "New dataset created at: ./final_datasets/sys-gen/exp_setting_1/experiment_4/gen_test.json\n",
      "Metadata about the created experiment dataset saved at: ./final_datasets/sys-gen/exp_setting_1/experiment_4/dataset_metadata.json\n",
      "Created path experiment:  ./final_datasets/sys-gen/exp_setting_1/experiment_5\n",
      "Task e9afcf9a has 102000 train samples\n",
      "Task e9afcf9a has 102000 OOD generalization samples\n",
      "New dataset created at: ./final_datasets/sys-gen/exp_setting_1/experiment_5/train.json\n",
      "New dataset created at: ./final_datasets/sys-gen/exp_setting_1/experiment_5/val.json\n",
      "New dataset created at: ./final_datasets/sys-gen/exp_setting_1/experiment_5/test.json\n",
      "New dataset created at: ./final_datasets/sys-gen/exp_setting_1/experiment_5/gen_test.json\n",
      "Metadata about the created experiment dataset saved at: ./final_datasets/sys-gen/exp_setting_1/experiment_5/dataset_metadata.json\n",
      "Created path experiment:  ./final_datasets/sys-gen/exp_setting_1/experiment_6\n",
      "Task d9f24cd1 has 102000 train samples\n",
      "Task d9f24cd1 has 102000 OOD generalization samples\n",
      "New dataset created at: ./final_datasets/sys-gen/exp_setting_1/experiment_6/train.json\n",
      "New dataset created at: ./final_datasets/sys-gen/exp_setting_1/experiment_6/val.json\n",
      "New dataset created at: ./final_datasets/sys-gen/exp_setting_1/experiment_6/test.json\n",
      "New dataset created at: ./final_datasets/sys-gen/exp_setting_1/experiment_6/gen_test.json\n",
      "Metadata about the created experiment dataset saved at: ./final_datasets/sys-gen/exp_setting_1/experiment_6/dataset_metadata.json\n",
      "Created path experiment:  ./final_datasets/sys-gen/exp_setting_1/experiment_7\n",
      "Task 4be741c5 has 102000 train samples\n",
      "Task 4be741c5 has 102000 OOD generalization samples\n",
      "New dataset created at: ./final_datasets/sys-gen/exp_setting_1/experiment_7/train.json\n",
      "New dataset created at: ./final_datasets/sys-gen/exp_setting_1/experiment_7/val.json\n",
      "New dataset created at: ./final_datasets/sys-gen/exp_setting_1/experiment_7/test.json\n",
      "New dataset created at: ./final_datasets/sys-gen/exp_setting_1/experiment_7/gen_test.json\n",
      "Metadata about the created experiment dataset saved at: ./final_datasets/sys-gen/exp_setting_1/experiment_7/dataset_metadata.json\n",
      "Created path experiment:  ./final_datasets/sys-gen/exp_setting_1/experiment_8\n",
      "Task 5521c0d9 has 102000 train samples\n",
      "Task 5521c0d9 has 102000 OOD generalization samples\n",
      "New dataset created at: ./final_datasets/sys-gen/exp_setting_1/experiment_8/train.json\n",
      "New dataset created at: ./final_datasets/sys-gen/exp_setting_1/experiment_8/val.json\n",
      "New dataset created at: ./final_datasets/sys-gen/exp_setting_1/experiment_8/test.json\n",
      "New dataset created at: ./final_datasets/sys-gen/exp_setting_1/experiment_8/gen_test.json\n",
      "Metadata about the created experiment dataset saved at: ./final_datasets/sys-gen/exp_setting_1/experiment_8/dataset_metadata.json\n",
      "Created path experiment:  ./final_datasets/sys-gen/exp_setting_1/experiment_9\n",
      "Task f8b3ba0a has 102000 train samples\n",
      "Task f8b3ba0a has 102000 OOD generalization samples\n",
      "New dataset created at: ./final_datasets/sys-gen/exp_setting_1/experiment_9/train.json\n",
      "New dataset created at: ./final_datasets/sys-gen/exp_setting_1/experiment_9/val.json\n",
      "New dataset created at: ./final_datasets/sys-gen/exp_setting_1/experiment_9/test.json\n",
      "New dataset created at: ./final_datasets/sys-gen/exp_setting_1/experiment_9/gen_test.json\n",
      "Metadata about the created experiment dataset saved at: ./final_datasets/sys-gen/exp_setting_1/experiment_9/dataset_metadata.json\n",
      "Created path experiment:  ./final_datasets/sys-gen/exp_setting_1/experiment_10\n",
      "Task d406998b has 102000 train samples\n",
      "Task d406998b has 102000 OOD generalization samples\n",
      "New dataset created at: ./final_datasets/sys-gen/exp_setting_1/experiment_10/train.json\n",
      "New dataset created at: ./final_datasets/sys-gen/exp_setting_1/experiment_10/val.json\n",
      "New dataset created at: ./final_datasets/sys-gen/exp_setting_1/experiment_10/test.json\n",
      "New dataset created at: ./final_datasets/sys-gen/exp_setting_1/experiment_10/gen_test.json\n",
      "Metadata about the created experiment dataset saved at: ./final_datasets/sys-gen/exp_setting_1/experiment_10/dataset_metadata.json\n"
     ]
    }
   ],
   "source": [
    "# ** Experiment setting 1: Various Parameters Cardinality Difficulty **\n",
    "\n",
    "exp_setting_desc = \"\"\"Experiment setting 1: Various Parameters Cardinality Difficulty\"\"\"\n",
    "\n",
    "# We consider 10 tasks sampled randomly from the 400 tasks\n",
    "# We consider \"easier\" samples with the level of difficulty in [0, 0.7] and \"harder\" samples with the level of difficulty in [0.7, 1]\n",
    "# We create train datasets of size N_train = 100000\n",
    "# We create val datasets of size N_val = 1000\n",
    "# We create test datasets of size N_test = 1000\n",
    "# We create gen_test datasets of size N_gen_test = 1000\n",
    "\n",
    "splits = ['train', 'val', 'test', 'gen_test']\n",
    "experiment_setting_base = {'index': \"1\", 'splits': splits}\n",
    "\n",
    "nb_tasks = 10\n",
    "\n",
    "diff_level_easier = \"lb0_ub07\"\n",
    "diff_level_harder = \"lb07_ub1\"\n",
    "\n",
    "# chosen_tasks_folder = './final_datasets/chosen_tasks.txt'\n",
    "chosen_tasks_folder = './tasks_generated.txt'\n",
    "with open(chosen_tasks_folder, 'r') as f:\n",
    "    tasks = f.read().splitlines()\n",
    "\n",
    "train_sizes = [100000]\n",
    "val_sizes = [1000] * len(train_sizes)\n",
    "test_sizes = [1000] * len(train_sizes)\n",
    "gen_test_sizes = [1000] * len(train_sizes)\n",
    "\n",
    "experiment_setting = {**experiment_setting_base, \n",
    "                      'tasks': tasks, \n",
    "                      'diff_level_easier': diff_level_easier,\n",
    "                      'diff_level_harder': diff_level_harder,\n",
    "                      'train_sizes': train_sizes, \n",
    "                      'val_sizes': val_sizes, \n",
    "                      'test_sizes': test_sizes,\n",
    "                      'gen_test_sizes': gen_test_sizes,\n",
    "                      'desc': exp_setting_desc\n",
    "                      }\n",
    "\n",
    "create_dataset(sys_gen_dir, study, experiment_setting)\n"
   ]
  },
  {
   "cell_type": "code",
   "execution_count": 34,
   "metadata": {},
   "outputs": [
    {
     "name": "stderr",
     "output_type": "stream",
     "text": [
      "/tmp/ipykernel_3466604/2204237555.py:2: UserWarning: To copy construct from a tensor, it is recommended to use sourceTensor.clone().detach() or sourceTensor.clone().detach().requires_grad_(True), rather than torch.tensor(sourceTensor).\n",
      "  inputs = [torch.tensor(sample[0], dtype=torch.long) for sample in batch]\n",
      "/tmp/ipykernel_3466604/2204237555.py:3: UserWarning: To copy construct from a tensor, it is recommended to use sourceTensor.clone().detach() or sourceTensor.clone().detach().requires_grad_(True), rather than torch.tensor(sourceTensor).\n",
      "  outputs = [torch.tensor(sample[1], dtype=torch.long) for sample in batch]\n"
     ]
    },
    {
     "name": "stdout",
     "output_type": "stream",
     "text": [
      "Input batch shape:  torch.Size([4, 30, 30])\n",
      "Output batch shape:  torch.Size([4, 30, 30])\n"
     ]
    },
    {
     "data": {
      "image/png": "[encoded data removed]",
      "text/plain": [
       "<Figure size 600x300 with 2 Axes>"
      ]
     },
     "metadata": {},
     "output_type": "display_data"
    },
    {
     "data": {
      "text/plain": [
       "<torch.utils.data.dataloader.DataLoader at 0x7f45d7987650>"
      ]
     },
     "execution_count": 34,
     "metadata": {},
     "output_type": "execute_result"
    }
   ],
   "source": [
    "dataset_train_path = \"./final_datasets/sys-gen/exp_setting_1/experiment_2/train.json\"\n",
    "check_REARC_dataloader(dataset_train_path, use_dataloader_padding=True)"
   ]
  },
  {
   "cell_type": "code",
   "execution_count": 35,
   "metadata": {},
   "outputs": [
    {
     "name": "stdout",
     "output_type": "stream",
     "text": [
      "Input batch shape:  torch.Size([4, 30, 30])\n",
      "Output batch shape:  torch.Size([4, 30, 30])\n"
     ]
    },
    {
     "name": "stderr",
     "output_type": "stream",
     "text": [
      "/tmp/ipykernel_3466604/2204237555.py:2: UserWarning: To copy construct from a tensor, it is recommended to use sourceTensor.clone().detach() or sourceTensor.clone().detach().requires_grad_(True), rather than torch.tensor(sourceTensor).\n",
      "  inputs = [torch.tensor(sample[0], dtype=torch.long) for sample in batch]\n",
      "/tmp/ipykernel_3466604/2204237555.py:3: UserWarning: To copy construct from a tensor, it is recommended to use sourceTensor.clone().detach() or sourceTensor.clone().detach().requires_grad_(True), rather than torch.tensor(sourceTensor).\n",
      "  outputs = [torch.tensor(sample[1], dtype=torch.long) for sample in batch]\n"
     ]
    },
    {
     "data": {
      "image/png": "[encoded data removed]",
      "text/plain": [
       "<Figure size 600x300 with 2 Axes>"
      ]
     },
     "metadata": {},
     "output_type": "display_data"
    },
    {
     "data": {
      "text/plain": [
       "<torch.utils.data.dataloader.DataLoader at 0x7f45afcb5460>"
      ]
     },
     "execution_count": 35,
     "metadata": {},
     "output_type": "execute_result"
    }
   ],
   "source": [
    "dataset_test_path = \"./final_datasets/sys-gen/exp_setting_1/experiment_2/val.json\"\n",
    "check_REARC_dataloader(dataset_test_path, use_dataloader_padding=True)"
   ]
  },
  {
   "cell_type": "code",
   "execution_count": 36,
   "metadata": {},
   "outputs": [
    {
     "name": "stderr",
     "output_type": "stream",
     "text": [
      "/tmp/ipykernel_3466604/2204237555.py:2: UserWarning: To copy construct from a tensor, it is recommended to use sourceTensor.clone().detach() or sourceTensor.clone().detach().requires_grad_(True), rather than torch.tensor(sourceTensor).\n",
      "  inputs = [torch.tensor(sample[0], dtype=torch.long) for sample in batch]\n"
     ]
    },
    {
     "name": "stdout",
     "output_type": "stream",
     "text": [
      "Input batch shape:  torch.Size([4, 30, 30])\n",
      "Output batch shape:  torch.Size([4, 30, 30])\n"
     ]
    },
    {
     "name": "stderr",
     "output_type": "stream",
     "text": [
      "/tmp/ipykernel_3466604/2204237555.py:3: UserWarning: To copy construct from a tensor, it is recommended to use sourceTensor.clone().detach() or sourceTensor.clone().detach().requires_grad_(True), rather than torch.tensor(sourceTensor).\n",
      "  outputs = [torch.tensor(sample[1], dtype=torch.long) for sample in batch]\n"
     ]
    },
    {
     "data": {
      "image/png": "[encoded data removed]",
      "text/plain": [
       "<Figure size 600x300 with 2 Axes>"
      ]
     },
     "metadata": {},
     "output_type": "display_data"
    },
    {
     "data": {
      "text/plain": [
       "<torch.utils.data.dataloader.DataLoader at 0x7f4598493530>"
      ]
     },
     "execution_count": 36,
     "metadata": {},
     "output_type": "execute_result"
    }
   ],
   "source": [
    "dataset_test_path = \"./final_datasets/sys-gen/exp_setting_1/experiment_2/test.json\"\n",
    "check_REARC_dataloader(dataset_test_path, use_dataloader_padding=True)"
   ]
  },
  {
   "cell_type": "code",
   "execution_count": 37,
   "metadata": {},
   "outputs": [
    {
     "name": "stdout",
     "output_type": "stream",
     "text": [
      "Input batch shape:  torch.Size([4, 30, 30])\n",
      "Output batch shape:  torch.Size([4, 30, 30])\n"
     ]
    },
    {
     "name": "stderr",
     "output_type": "stream",
     "text": [
      "/tmp/ipykernel_3466604/2204237555.py:2: UserWarning: To copy construct from a tensor, it is recommended to use sourceTensor.clone().detach() or sourceTensor.clone().detach().requires_grad_(True), rather than torch.tensor(sourceTensor).\n",
      "  inputs = [torch.tensor(sample[0], dtype=torch.long) for sample in batch]\n",
      "/tmp/ipykernel_3466604/2204237555.py:3: UserWarning: To copy construct from a tensor, it is recommended to use sourceTensor.clone().detach() or sourceTensor.clone().detach().requires_grad_(True), rather than torch.tensor(sourceTensor).\n",
      "  outputs = [torch.tensor(sample[1], dtype=torch.long) for sample in batch]\n"
     ]
    },
    {
     "data": {
      "image/png": "[encoded data removed]",
      "text/plain": [
       "<Figure size 600x300 with 2 Axes>"
      ]
     },
     "metadata": {},
     "output_type": "display_data"
    },
    {
     "data": {
      "text/plain": [
       "<torch.utils.data.dataloader.DataLoader at 0x7f455085c0e0>"
      ]
     },
     "execution_count": 37,
     "metadata": {},
     "output_type": "execute_result"
    }
   ],
   "source": [
    "dataset_gen_test_path = \"./final_datasets/sys-gen/exp_setting_1/experiment_2/gen_test.json\"\n",
    "check_REARC_dataloader(dataset_gen_test_path, use_dataloader_padding=True)"
   ]
  },
  {
   "cell_type": "code",
   "execution_count": null,
   "metadata": {},
   "outputs": [],
   "source": []
  }
 ],
 "metadata": {
  "kernelspec": {
   "display_name": "vis-reas_jupyter_kernel",
   "language": "python",
   "name": "vis-reas-cuda-kernl"
  },
  "language_info": {
   "codemirror_mode": {
    "name": "ipython",
    "version": 3
   },
   "file_extension": ".py",
   "mimetype": "text/x-python",
   "name": "python",
   "nbconvert_exporter": "python",
   "pygments_lexer": "ipython3",
   "version": "3.12.4"
  }
 },
 "nbformat": 4,
 "nbformat_minor": 2
}
